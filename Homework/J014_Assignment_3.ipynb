{
 "cells": [
  {
   "cell_type": "markdown",
   "id": "9989274a",
   "metadata": {},
   "source": [
    "#### Roll No. : J014\n",
    "#### Name : Ankita Dasgupta\n",
    "#### Machine Learning Assignment 3 \n",
    "#### Linear Regression"
   ]
  },
  {
   "cell_type": "code",
   "execution_count": 1,
   "id": "00b82d05",
   "metadata": {},
   "outputs": [],
   "source": [
    "%matplotlib inline\n",
    "import numpy as np\n",
    "import pandas as pd\n",
    "import matplotlib.pyplot as plt"
   ]
  },
  {
   "cell_type": "markdown",
   "id": "2febcf1b",
   "metadata": {},
   "source": [
    "### Univariate Linear Regression"
   ]
  },
  {
   "cell_type": "code",
   "execution_count": 218,
   "id": "8b837ff8",
   "metadata": {},
   "outputs": [
    {
     "data": {
      "text/html": [
       "<div>\n",
       "<style scoped>\n",
       "    .dataframe tbody tr th:only-of-type {\n",
       "        vertical-align: middle;\n",
       "    }\n",
       "\n",
       "    .dataframe tbody tr th {\n",
       "        vertical-align: top;\n",
       "    }\n",
       "\n",
       "    .dataframe thead th {\n",
       "        text-align: right;\n",
       "    }\n",
       "</style>\n",
       "<table border=\"1\" class=\"dataframe\">\n",
       "  <thead>\n",
       "    <tr style=\"text-align: right;\">\n",
       "      <th></th>\n",
       "      <th>Population</th>\n",
       "      <th>Profit</th>\n",
       "    </tr>\n",
       "  </thead>\n",
       "  <tbody>\n",
       "    <tr>\n",
       "      <th>0</th>\n",
       "      <td>6.1101</td>\n",
       "      <td>17.5920</td>\n",
       "    </tr>\n",
       "    <tr>\n",
       "      <th>1</th>\n",
       "      <td>5.5277</td>\n",
       "      <td>9.1302</td>\n",
       "    </tr>\n",
       "    <tr>\n",
       "      <th>2</th>\n",
       "      <td>8.5186</td>\n",
       "      <td>13.6620</td>\n",
       "    </tr>\n",
       "    <tr>\n",
       "      <th>3</th>\n",
       "      <td>7.0032</td>\n",
       "      <td>11.8540</td>\n",
       "    </tr>\n",
       "    <tr>\n",
       "      <th>4</th>\n",
       "      <td>5.8598</td>\n",
       "      <td>6.8233</td>\n",
       "    </tr>\n",
       "  </tbody>\n",
       "</table>\n",
       "</div>"
      ],
      "text/plain": [
       "   Population   Profit\n",
       "0      6.1101  17.5920\n",
       "1      5.5277   9.1302\n",
       "2      8.5186  13.6620\n",
       "3      7.0032  11.8540\n",
       "4      5.8598   6.8233"
      ]
     },
     "execution_count": 218,
     "metadata": {},
     "output_type": "execute_result"
    }
   ],
   "source": [
    "data = pd.read_csv(\"Data/ex1data1.txt\", header=None)\n",
    "data.columns = ['Population', 'Profit']\n",
    "data.head()"
   ]
  },
  {
   "cell_type": "code",
   "execution_count": 219,
   "id": "1212c9cf",
   "metadata": {},
   "outputs": [
    {
     "data": {
      "text/html": [
       "<div>\n",
       "<style scoped>\n",
       "    .dataframe tbody tr th:only-of-type {\n",
       "        vertical-align: middle;\n",
       "    }\n",
       "\n",
       "    .dataframe tbody tr th {\n",
       "        vertical-align: top;\n",
       "    }\n",
       "\n",
       "    .dataframe thead th {\n",
       "        text-align: right;\n",
       "    }\n",
       "</style>\n",
       "<table border=\"1\" class=\"dataframe\">\n",
       "  <thead>\n",
       "    <tr style=\"text-align: right;\">\n",
       "      <th></th>\n",
       "      <th>Population</th>\n",
       "      <th>Profit</th>\n",
       "    </tr>\n",
       "  </thead>\n",
       "  <tbody>\n",
       "    <tr>\n",
       "      <th>count</th>\n",
       "      <td>97.000000</td>\n",
       "      <td>97.000000</td>\n",
       "    </tr>\n",
       "    <tr>\n",
       "      <th>mean</th>\n",
       "      <td>8.159800</td>\n",
       "      <td>5.839135</td>\n",
       "    </tr>\n",
       "    <tr>\n",
       "      <th>std</th>\n",
       "      <td>3.869884</td>\n",
       "      <td>5.510262</td>\n",
       "    </tr>\n",
       "    <tr>\n",
       "      <th>min</th>\n",
       "      <td>5.026900</td>\n",
       "      <td>-2.680700</td>\n",
       "    </tr>\n",
       "    <tr>\n",
       "      <th>25%</th>\n",
       "      <td>5.707700</td>\n",
       "      <td>1.986900</td>\n",
       "    </tr>\n",
       "    <tr>\n",
       "      <th>50%</th>\n",
       "      <td>6.589400</td>\n",
       "      <td>4.562300</td>\n",
       "    </tr>\n",
       "    <tr>\n",
       "      <th>75%</th>\n",
       "      <td>8.578100</td>\n",
       "      <td>7.046700</td>\n",
       "    </tr>\n",
       "    <tr>\n",
       "      <th>max</th>\n",
       "      <td>22.203000</td>\n",
       "      <td>24.147000</td>\n",
       "    </tr>\n",
       "  </tbody>\n",
       "</table>\n",
       "</div>"
      ],
      "text/plain": [
       "       Population     Profit\n",
       "count   97.000000  97.000000\n",
       "mean     8.159800   5.839135\n",
       "std      3.869884   5.510262\n",
       "min      5.026900  -2.680700\n",
       "25%      5.707700   1.986900\n",
       "50%      6.589400   4.562300\n",
       "75%      8.578100   7.046700\n",
       "max     22.203000  24.147000"
      ]
     },
     "execution_count": 219,
     "metadata": {},
     "output_type": "execute_result"
    }
   ],
   "source": [
    "data.describe()"
   ]
  },
  {
   "cell_type": "markdown",
   "id": "6be26f7c",
   "metadata": {},
   "source": [
    "#### Scatter Plot for Profit vs Population"
   ]
  },
  {
   "cell_type": "code",
   "execution_count": 220,
   "id": "9bfe490c",
   "metadata": {},
   "outputs": [
    {
     "data": {
      "text/plain": [
       "Text(0.5, 1.0, 'Profit vs Population')"
      ]
     },
     "execution_count": 220,
     "metadata": {},
     "output_type": "execute_result"
    },
    {
     "data": {
      "image/png": "[encoded data removed]",
      "text/plain": [
       "<Figure size 432x288 with 1 Axes>"
      ]
     },
     "metadata": {
      "needs_background": "light"
     },
     "output_type": "display_data"
    }
   ],
   "source": [
    "plt.scatter(data['Population'], data['Profit'], color = 'black')\n",
    "plt.xticks(np.arange(5,30,step=5))\n",
    "plt.yticks(np.arange(-5,30,step=5))\n",
    "plt.xlabel('Population (in 10,000s)')\n",
    "plt.ylabel('Profit (in 10,000$)')\n",
    "plt.title('Profit vs Population')"
   ]
  },
  {
   "cell_type": "markdown",
   "id": "e2658b64",
   "metadata": {},
   "source": [
    "#### Cost Function J(θ)"
   ]
  },
  {
   "cell_type": "code",
   "execution_count": 17,
   "id": "255b8942",
   "metadata": {},
   "outputs": [],
   "source": [
    "def computeCost(x,y,theta):\n",
    "    \"\"\"\n",
    "    Take in a numpy arary x,y,theta and get cost function using theta as parameter in a linear regression model\n",
    "    \"\"\"\n",
    "    m = len(y)\n",
    "    predictions = x.dot(theta)\n",
    "    square_err = (predictions - y)**2\n",
    "    \n",
    "    return (1/(2*m))*np.sum(square_err)"
   ]
  },
  {
   "cell_type": "markdown",
   "id": "25b3ca5d",
   "metadata": {},
   "source": [
    "#### Assigning Values to x,y,0 and Reshaping the Data"
   ]
  },
  {
   "cell_type": "code",
   "execution_count": 3,
   "id": "31db7e22",
   "metadata": {},
   "outputs": [
    {
     "ename": "NameError",
     "evalue": "name 'data' is not defined",
     "output_type": "error",
     "traceback": [
      "\u001b[1;31m---------------------------------------------------------------------------\u001b[0m",
      "\u001b[1;31mNameError\u001b[0m                                 Traceback (most recent call last)",
      "\u001b[1;32m<ipython-input-3-2de8a72a0094>\u001b[0m in \u001b[0;36m<module>\u001b[1;34m\u001b[0m\n\u001b[1;32m----> 1\u001b[1;33m \u001b[0mdata\u001b[0m\u001b[1;33m[\u001b[0m\u001b[1;34m'x0'\u001b[0m\u001b[1;33m]\u001b[0m \u001b[1;33m=\u001b[0m \u001b[1;36m1\u001b[0m\u001b[1;33m\u001b[0m\u001b[1;33m\u001b[0m\u001b[0m\n\u001b[0m\u001b[0;32m      2\u001b[0m \u001b[0mdata_val\u001b[0m \u001b[1;33m=\u001b[0m \u001b[0mdata\u001b[0m\u001b[1;33m.\u001b[0m\u001b[0mvalues\u001b[0m\u001b[1;33m\u001b[0m\u001b[1;33m\u001b[0m\u001b[0m\n\u001b[0;32m      3\u001b[0m \u001b[0mm\u001b[0m \u001b[1;33m=\u001b[0m  \u001b[0mlen\u001b[0m\u001b[1;33m(\u001b[0m\u001b[0mdata_val\u001b[0m\u001b[1;33m[\u001b[0m\u001b[1;33m:\u001b[0m\u001b[1;33m-\u001b[0m\u001b[1;36m1\u001b[0m\u001b[1;33m]\u001b[0m\u001b[1;33m)\u001b[0m\u001b[1;33m\u001b[0m\u001b[1;33m\u001b[0m\u001b[0m\n\u001b[0;32m      4\u001b[0m \u001b[0mx\u001b[0m \u001b[1;33m=\u001b[0m \u001b[0mdata\u001b[0m\u001b[1;33m[\u001b[0m\u001b[1;33m[\u001b[0m\u001b[1;34m'x0'\u001b[0m\u001b[1;33m,\u001b[0m\u001b[1;34m'Population'\u001b[0m\u001b[1;33m]\u001b[0m\u001b[1;33m]\u001b[0m\u001b[1;33m.\u001b[0m\u001b[0miloc\u001b[0m\u001b[1;33m[\u001b[0m\u001b[1;33m:\u001b[0m\u001b[1;33m-\u001b[0m\u001b[1;36m1\u001b[0m\u001b[1;33m]\u001b[0m\u001b[1;33m.\u001b[0m\u001b[0mvalues\u001b[0m\u001b[1;33m\u001b[0m\u001b[1;33m\u001b[0m\u001b[0m\n\u001b[0;32m      5\u001b[0m \u001b[0my\u001b[0m \u001b[1;33m=\u001b[0m \u001b[0mdata\u001b[0m\u001b[1;33m[\u001b[0m\u001b[1;34m'Profit'\u001b[0m\u001b[1;33m]\u001b[0m\u001b[1;33m[\u001b[0m\u001b[1;33m:\u001b[0m\u001b[1;33m-\u001b[0m\u001b[1;36m1\u001b[0m\u001b[1;33m]\u001b[0m\u001b[1;33m.\u001b[0m\u001b[0mvalues\u001b[0m\u001b[1;33m.\u001b[0m\u001b[0mreshape\u001b[0m\u001b[1;33m(\u001b[0m\u001b[0mm\u001b[0m\u001b[1;33m,\u001b[0m\u001b[1;36m1\u001b[0m\u001b[1;33m)\u001b[0m\u001b[1;33m\u001b[0m\u001b[1;33m\u001b[0m\u001b[0m\n",
      "\u001b[1;31mNameError\u001b[0m: name 'data' is not defined"
     ]
    }
   ],
   "source": [
    "data['x0'] = 1\n",
    "data_val = data.values\n",
    "m =  len(data_val[:-1])\n",
    "x = data[['x0','Population']].iloc[:-1].values\n",
    "y = data['Profit'][:-1].values.reshape(m,1)\n",
    "theta = np.zeros((2,1))\n",
    "\n",
    "m, x.shape, y.shape, theta.shape"
   ]
  },
  {
   "cell_type": "markdown",
   "id": "c2886b16",
   "metadata": {},
   "source": [
    "h(θ) = x0θ0 +x1θ1 ....(x0 = 1)"
   ]
  },
  {
   "cell_type": "code",
   "execution_count": 223,
   "id": "a374bd03",
   "metadata": {},
   "outputs": [
    {
     "data": {
      "text/html": [
       "<div>\n",
       "<style scoped>\n",
       "    .dataframe tbody tr th:only-of-type {\n",
       "        vertical-align: middle;\n",
       "    }\n",
       "\n",
       "    .dataframe tbody tr th {\n",
       "        vertical-align: top;\n",
       "    }\n",
       "\n",
       "    .dataframe thead th {\n",
       "        text-align: right;\n",
       "    }\n",
       "</style>\n",
       "<table border=\"1\" class=\"dataframe\">\n",
       "  <thead>\n",
       "    <tr style=\"text-align: right;\">\n",
       "      <th></th>\n",
       "      <th>Population</th>\n",
       "      <th>Profit</th>\n",
       "      <th>x0</th>\n",
       "    </tr>\n",
       "  </thead>\n",
       "  <tbody>\n",
       "    <tr>\n",
       "      <th>0</th>\n",
       "      <td>6.1101</td>\n",
       "      <td>17.5920</td>\n",
       "      <td>1</td>\n",
       "    </tr>\n",
       "    <tr>\n",
       "      <th>1</th>\n",
       "      <td>5.5277</td>\n",
       "      <td>9.1302</td>\n",
       "      <td>1</td>\n",
       "    </tr>\n",
       "    <tr>\n",
       "      <th>2</th>\n",
       "      <td>8.5186</td>\n",
       "      <td>13.6620</td>\n",
       "      <td>1</td>\n",
       "    </tr>\n",
       "    <tr>\n",
       "      <th>3</th>\n",
       "      <td>7.0032</td>\n",
       "      <td>11.8540</td>\n",
       "      <td>1</td>\n",
       "    </tr>\n",
       "    <tr>\n",
       "      <th>4</th>\n",
       "      <td>5.8598</td>\n",
       "      <td>6.8233</td>\n",
       "      <td>1</td>\n",
       "    </tr>\n",
       "  </tbody>\n",
       "</table>\n",
       "</div>"
      ],
      "text/plain": [
       "   Population   Profit  x0\n",
       "0      6.1101  17.5920   1\n",
       "1      5.5277   9.1302   1\n",
       "2      8.5186  13.6620   1\n",
       "3      7.0032  11.8540   1\n",
       "4      5.8598   6.8233   1"
      ]
     },
     "execution_count": 223,
     "metadata": {},
     "output_type": "execute_result"
    }
   ],
   "source": [
    "data.head()"
   ]
  },
  {
   "cell_type": "code",
   "execution_count": 224,
   "id": "58263b2a",
   "metadata": {},
   "outputs": [
    {
     "data": {
      "text/plain": [
       "64.80968355754062"
      ]
     },
     "execution_count": 224,
     "metadata": {},
     "output_type": "execute_result"
    }
   ],
   "source": [
    "computeCost(x,y,theta)"
   ]
  },
  {
   "cell_type": "markdown",
   "id": "ff07ecfe",
   "metadata": {},
   "source": [
    "#### Gradient Descent\n",
    "Function that works for both Univariate and Multivariate Data"
   ]
  },
  {
   "cell_type": "code",
   "execution_count": 4,
   "id": "8703946b",
   "metadata": {},
   "outputs": [],
   "source": [
    "def gradientDescent(x,y,theta,alpha,num_iters):\n",
    "    \"\"\"\n",
    "    Take numpy array for x,y,theta and update theta for every iteration of gradient steps\n",
    "    Breaks the loop as soon as minimization is finished with a precision of 0.00000001\n",
    "    \n",
    "    return theta and the list of cost of theta during each iteration\n",
    "    \"\"\"\n",
    "    \n",
    "    m = len(y)\n",
    "    precision = 0.00000001\n",
    "    J_history = []\n",
    "    for i in range(num_iters):\n",
    "        predictions = np.dot(x, theta)\n",
    "        error = np.dot(x.T, (predictions-y))\n",
    "        descent = alpha * (1/m) * error\n",
    "        theta = theta - descent\n",
    "        cost = computeCost(x,y,theta)\n",
    "        J_history.append(cost)\n",
    "        if i >= 2 and (cost > J_history[-2] or precision > abs(J_history[-2] - cost)):\n",
    "            break\n",
    "    return theta, J_history"
   ]
  },
  {
   "cell_type": "code",
   "execution_count": 18,
   "id": "52d99e8d",
   "metadata": {},
   "outputs": [],
   "source": [
    "theta, J_history = gradientDescent(x , y, theta,0.001, 2000)"
   ]
  },
  {
   "cell_type": "code",
   "execution_count": 19,
   "id": "a1e60b54",
   "metadata": {},
   "outputs": [
    {
     "name": "stdout",
     "output_type": "stream",
     "text": [
      "h(x) = 0.21 + 0.88x1\n"
     ]
    }
   ],
   "source": [
    "print(f\"h(x) = {str(round(theta[0,0],2))} + {str(round(theta[1,0],2))}x1\")"
   ]
  },
  {
   "cell_type": "markdown",
   "id": "ce31af16",
   "metadata": {},
   "source": [
    "#### Surface Plot for Gradient Descent"
   ]
  },
  {
   "cell_type": "code",
   "execution_count": 228,
   "id": "83b09f56",
   "metadata": {},
   "outputs": [
    {
     "data": {
      "image/png": "[encoded data removed]",
      "text/plain": [
       "<Figure size 432x288 with 2 Axes>"
      ]
     },
     "metadata": {
      "needs_background": "light"
     },
     "output_type": "display_data"
    }
   ],
   "source": [
    "from mpl_toolkits.mplot3d import Axes3D\n",
    "#Generating values for theta0, theta1 and the resulting cost value\n",
    "theta0_vals=np.linspace(-10,10,100)\n",
    "theta1_vals=np.linspace(-1,4,100)\n",
    "J_vals=np.zeros((len(theta0_vals),len(theta1_vals)))\n",
    "for i in range(len(theta0_vals)):\n",
    "    for j in range(len(theta1_vals)):\n",
    "        t=np.array([theta0_vals[i],theta1_vals[j]])\n",
    "        J_vals[i,j]=computeCost(x,y,t)\n",
    "#Generating the surface plot\n",
    "fig = plt.figure()\n",
    "ax = fig.add_subplot(111, projection='3d')\n",
    "surf=ax.plot_surface(theta0_vals,theta1_vals,J_vals,cmap=\"coolwarm\")\n",
    "fig.colorbar(surf, shrink=0.5, aspect=5)\n",
    "ax.set_xlabel(\"$\\Theta_0$\")\n",
    "ax.set_ylabel(\"$\\Theta_1$\")\n",
    "ax.set_zlabel(\"$J(\\Theta)$\")\n",
    "#rotate for better angle\n",
    "ax.view_init(10,100)"
   ]
  },
  {
   "cell_type": "markdown",
   "id": "b58b297c",
   "metadata": {},
   "source": [
    "#### Plot for Cost Function "
   ]
  },
  {
   "cell_type": "code",
   "execution_count": 229,
   "id": "489a5625",
   "metadata": {},
   "outputs": [
    {
     "data": {
      "text/plain": [
       "Text(0.5, 1.0, 'Cost function using Gradient Descent')"
      ]
     },
     "execution_count": 229,
     "metadata": {},
     "output_type": "execute_result"
    },
    {
     "data": {
      "image/png": "[encoded data removed]",
      "text/plain": [
       "<Figure size 432x288 with 1 Axes>"
      ]
     },
     "metadata": {
      "needs_background": "light"
     },
     "output_type": "display_data"
    }
   ],
   "source": [
    "plt.plot(J_history, color = 'black')\n",
    "plt.xlabel(\"Iteration\")\n",
    "plt.ylabel(\"$J(\\Theta)$\")\n",
    "plt.title(\"Cost function using Gradient Descent\")"
   ]
  },
  {
   "cell_type": "code",
   "execution_count": 230,
   "id": "b8fdd1ca",
   "metadata": {},
   "outputs": [
    {
     "data": {
      "text/plain": [
       "Text(0.5, 1.0, 'Profit vs Population')"
      ]
     },
     "execution_count": 230,
     "metadata": {},
     "output_type": "execute_result"
    },
    {
     "data": {
      "image/png": "[encoded data removed]",
      "text/plain": [
       "<Figure size 432x288 with 1 Axes>"
      ]
     },
     "metadata": {
      "needs_background": "light"
     },
     "output_type": "display_data"
    }
   ],
   "source": [
    "plt.scatter(data['Population'], data['Profit'], color = 'black')\n",
    "x_value = [x for x in range(25)]\n",
    "y_value = [x*theta[1] + theta[0] for x in x_value]\n",
    "plt.plot(x_value, y_value, color = 'r')\n",
    "plt.xticks(np.arange(5,30,step=5))\n",
    "plt.yticks(np.arange(-5,30,step=5))\n",
    "plt.xlabel('Population (in 10,000s)')\n",
    "plt.ylabel('Profit (in 10,000$)')\n",
    "plt.title('Profit vs Population')"
   ]
  },
  {
   "cell_type": "markdown",
   "id": "fd78d56a",
   "metadata": {},
   "source": [
    "#### Prediction Function"
   ]
  },
  {
   "cell_type": "code",
   "execution_count": 14,
   "id": "bc2346e2",
   "metadata": {},
   "outputs": [],
   "source": [
    "def predict(x,theta):\n",
    "    \"\"\"\n",
    "    takes in numpy array x and theta and returns predicted value of y\n",
    "    \"\"\"\n",
    "    predictions = np.dot(x, theta)\n",
    "    return predictions"
   ]
  },
  {
   "cell_type": "code",
   "execution_count": 232,
   "id": "d10b7af1",
   "metadata": {},
   "outputs": [
    {
     "data": {
      "text/html": [
       "<div>\n",
       "<style scoped>\n",
       "    .dataframe tbody tr th:only-of-type {\n",
       "        vertical-align: middle;\n",
       "    }\n",
       "\n",
       "    .dataframe tbody tr th {\n",
       "        vertical-align: top;\n",
       "    }\n",
       "\n",
       "    .dataframe thead th {\n",
       "        text-align: right;\n",
       "    }\n",
       "</style>\n",
       "<table border=\"1\" class=\"dataframe\">\n",
       "  <thead>\n",
       "    <tr style=\"text-align: right;\">\n",
       "      <th></th>\n",
       "      <th>Population</th>\n",
       "      <th>Profit</th>\n",
       "      <th>x0</th>\n",
       "    </tr>\n",
       "  </thead>\n",
       "  <tbody>\n",
       "    <tr>\n",
       "      <th>96</th>\n",
       "      <td>5.4369</td>\n",
       "      <td>0.61705</td>\n",
       "      <td>1</td>\n",
       "    </tr>\n",
       "  </tbody>\n",
       "</table>\n",
       "</div>"
      ],
      "text/plain": [
       "    Population   Profit  x0\n",
       "96      5.4369  0.61705   1"
      ]
     },
     "execution_count": 232,
     "metadata": {},
     "output_type": "execute_result"
    }
   ],
   "source": [
    "data.tail(1)"
   ]
  },
  {
   "cell_type": "code",
   "execution_count": 233,
   "id": "5297d586",
   "metadata": {},
   "outputs": [
    {
     "name": "stdout",
     "output_type": "stream",
     "text": [
      "For a population of 6170 the predicted profit is $ [38686.24610338]\n"
     ]
    }
   ],
   "source": [
    "predict1 = predict(data[['x0','Population']].iloc[-1].values, theta)*10000\n",
    "print('For a population of 6170 the predicted profit is $',predict1)"
   ]
  },
  {
   "cell_type": "markdown",
   "id": "62da9851",
   "metadata": {},
   "source": [
    "### Multivariate Linear Regression"
   ]
  },
  {
   "cell_type": "code",
   "execution_count": 5,
   "id": "bab1dc62",
   "metadata": {},
   "outputs": [
    {
     "data": {
      "text/html": [
       "<div>\n",
       "<style scoped>\n",
       "    .dataframe tbody tr th:only-of-type {\n",
       "        vertical-align: middle;\n",
       "    }\n",
       "\n",
       "    .dataframe tbody tr th {\n",
       "        vertical-align: top;\n",
       "    }\n",
       "\n",
       "    .dataframe thead th {\n",
       "        text-align: right;\n",
       "    }\n",
       "</style>\n",
       "<table border=\"1\" class=\"dataframe\">\n",
       "  <thead>\n",
       "    <tr style=\"text-align: right;\">\n",
       "      <th></th>\n",
       "      <th>size_of_house</th>\n",
       "      <th>bedrooms</th>\n",
       "      <th>price</th>\n",
       "    </tr>\n",
       "  </thead>\n",
       "  <tbody>\n",
       "    <tr>\n",
       "      <th>0</th>\n",
       "      <td>2104</td>\n",
       "      <td>3</td>\n",
       "      <td>399900</td>\n",
       "    </tr>\n",
       "    <tr>\n",
       "      <th>1</th>\n",
       "      <td>1600</td>\n",
       "      <td>3</td>\n",
       "      <td>329900</td>\n",
       "    </tr>\n",
       "    <tr>\n",
       "      <th>2</th>\n",
       "      <td>2400</td>\n",
       "      <td>3</td>\n",
       "      <td>369000</td>\n",
       "    </tr>\n",
       "    <tr>\n",
       "      <th>3</th>\n",
       "      <td>1416</td>\n",
       "      <td>2</td>\n",
       "      <td>232000</td>\n",
       "    </tr>\n",
       "    <tr>\n",
       "      <th>4</th>\n",
       "      <td>3000</td>\n",
       "      <td>4</td>\n",
       "      <td>539900</td>\n",
       "    </tr>\n",
       "  </tbody>\n",
       "</table>\n",
       "</div>"
      ],
      "text/plain": [
       "   size_of_house  bedrooms   price\n",
       "0           2104         3  399900\n",
       "1           1600         3  329900\n",
       "2           2400         3  369000\n",
       "3           1416         2  232000\n",
       "4           3000         4  539900"
      ]
     },
     "execution_count": 5,
     "metadata": {},
     "output_type": "execute_result"
    }
   ],
   "source": [
    "data2 = pd.read_csv(\"Data/ex1data2.txt\", header=None)\n",
    "data2.columns = ['size_of_house', 'bedrooms', 'price']\n",
    "data2.head()"
   ]
  },
  {
   "cell_type": "code",
   "execution_count": 6,
   "id": "e321a3e0",
   "metadata": {},
   "outputs": [
    {
     "name": "stdout",
     "output_type": "stream",
     "text": [
      "<class 'pandas.core.frame.DataFrame'>\n",
      "RangeIndex: 47 entries, 0 to 46\n",
      "Data columns (total 3 columns):\n",
      " #   Column         Non-Null Count  Dtype\n",
      "---  ------         --------------  -----\n",
      " 0   size_of_house  47 non-null     int64\n",
      " 1   bedrooms       47 non-null     int64\n",
      " 2   price          47 non-null     int64\n",
      "dtypes: int64(3)\n",
      "memory usage: 1.2 KB\n"
     ]
    }
   ],
   "source": [
    "data2.info()"
   ]
  },
  {
   "cell_type": "code",
   "execution_count": 7,
   "id": "5b002f38",
   "metadata": {},
   "outputs": [
    {
     "data": {
      "text/html": [
       "<div>\n",
       "<style scoped>\n",
       "    .dataframe tbody tr th:only-of-type {\n",
       "        vertical-align: middle;\n",
       "    }\n",
       "\n",
       "    .dataframe tbody tr th {\n",
       "        vertical-align: top;\n",
       "    }\n",
       "\n",
       "    .dataframe thead th {\n",
       "        text-align: right;\n",
       "    }\n",
       "</style>\n",
       "<table border=\"1\" class=\"dataframe\">\n",
       "  <thead>\n",
       "    <tr style=\"text-align: right;\">\n",
       "      <th></th>\n",
       "      <th>size_of_house</th>\n",
       "      <th>bedrooms</th>\n",
       "      <th>price</th>\n",
       "    </tr>\n",
       "  </thead>\n",
       "  <tbody>\n",
       "    <tr>\n",
       "      <th>count</th>\n",
       "      <td>47.000000</td>\n",
       "      <td>47.000000</td>\n",
       "      <td>47.000000</td>\n",
       "    </tr>\n",
       "    <tr>\n",
       "      <th>mean</th>\n",
       "      <td>2000.680851</td>\n",
       "      <td>3.170213</td>\n",
       "      <td>340412.659574</td>\n",
       "    </tr>\n",
       "    <tr>\n",
       "      <th>std</th>\n",
       "      <td>794.702354</td>\n",
       "      <td>0.760982</td>\n",
       "      <td>125039.899586</td>\n",
       "    </tr>\n",
       "    <tr>\n",
       "      <th>min</th>\n",
       "      <td>852.000000</td>\n",
       "      <td>1.000000</td>\n",
       "      <td>169900.000000</td>\n",
       "    </tr>\n",
       "    <tr>\n",
       "      <th>25%</th>\n",
       "      <td>1432.000000</td>\n",
       "      <td>3.000000</td>\n",
       "      <td>249900.000000</td>\n",
       "    </tr>\n",
       "    <tr>\n",
       "      <th>50%</th>\n",
       "      <td>1888.000000</td>\n",
       "      <td>3.000000</td>\n",
       "      <td>299900.000000</td>\n",
       "    </tr>\n",
       "    <tr>\n",
       "      <th>75%</th>\n",
       "      <td>2269.000000</td>\n",
       "      <td>4.000000</td>\n",
       "      <td>384450.000000</td>\n",
       "    </tr>\n",
       "    <tr>\n",
       "      <th>max</th>\n",
       "      <td>4478.000000</td>\n",
       "      <td>5.000000</td>\n",
       "      <td>699900.000000</td>\n",
       "    </tr>\n",
       "  </tbody>\n",
       "</table>\n",
       "</div>"
      ],
      "text/plain": [
       "       size_of_house   bedrooms          price\n",
       "count      47.000000  47.000000      47.000000\n",
       "mean     2000.680851   3.170213  340412.659574\n",
       "std       794.702354   0.760982  125039.899586\n",
       "min       852.000000   1.000000  169900.000000\n",
       "25%      1432.000000   3.000000  249900.000000\n",
       "50%      1888.000000   3.000000  299900.000000\n",
       "75%      2269.000000   4.000000  384450.000000\n",
       "max      4478.000000   5.000000  699900.000000"
      ]
     },
     "execution_count": 7,
     "metadata": {},
     "output_type": "execute_result"
    }
   ],
   "source": [
    "data2.describe()"
   ]
  },
  {
   "cell_type": "markdown",
   "id": "49f76f7a",
   "metadata": {},
   "source": [
    "#### Scatter Plot for Size of House vs Price"
   ]
  },
  {
   "cell_type": "code",
   "execution_count": 8,
   "id": "7a1de5a7",
   "metadata": {},
   "outputs": [
    {
     "data": {
      "text/plain": [
       "Text(0.5, 1.0, 'Price vs Size of House')"
      ]
     },
     "execution_count": 8,
     "metadata": {},
     "output_type": "execute_result"
    },
    {
     "data": {
      "image/png": "[encoded data removed]",
      "text/plain": [
       "<Figure size 432x288 with 1 Axes>"
      ]
     },
     "metadata": {
      "needs_background": "light"
     },
     "output_type": "display_data"
    }
   ],
   "source": [
    "plt.scatter(data2['size_of_house'], data2['price'], color = 'black')\n",
    "plt.xlabel('Size of House (in sq.ft)')\n",
    "plt.ylabel('Price (in $)')\n",
    "plt.title('Price vs Size of House')"
   ]
  },
  {
   "cell_type": "markdown",
   "id": "5392802a",
   "metadata": {},
   "source": [
    "#### Scatter Plot for Size of House vs Price"
   ]
  },
  {
   "cell_type": "code",
   "execution_count": 9,
   "id": "1aa79711",
   "metadata": {},
   "outputs": [
    {
     "data": {
      "text/plain": [
       "Text(0.5, 1.0, 'Price vs Size of House')"
      ]
     },
     "execution_count": 9,
     "metadata": {},
     "output_type": "execute_result"
    },
    {
     "data": {
      "image/png": "[encoded data removed]",
      "text/plain": [
       "<Figure size 432x288 with 1 Axes>"
      ]
     },
     "metadata": {
      "needs_background": "light"
     },
     "output_type": "display_data"
    }
   ],
   "source": [
    "plt.scatter(data2['bedrooms'], data2['price'], color = 'black')\n",
    "plt.yticks(np.arange(100000,700001,step=50000))\n",
    "plt.xticks(np.arange(0,6,step=1))\n",
    "plt.xlabel('Size of House (in sq.ft)')\n",
    "plt.ylabel('Price (in $)')\n",
    "plt.title('Price vs Size of House')"
   ]
  },
  {
   "cell_type": "markdown",
   "id": "3b780236",
   "metadata": {},
   "source": [
    "#### Scaling the data using Standardisation"
   ]
  },
  {
   "cell_type": "code",
   "execution_count": 10,
   "id": "10c34374",
   "metadata": {},
   "outputs": [
    {
     "data": {
      "text/html": [
       "<div>\n",
       "<style scoped>\n",
       "    .dataframe tbody tr th:only-of-type {\n",
       "        vertical-align: middle;\n",
       "    }\n",
       "\n",
       "    .dataframe tbody tr th {\n",
       "        vertical-align: top;\n",
       "    }\n",
       "\n",
       "    .dataframe thead th {\n",
       "        text-align: right;\n",
       "    }\n",
       "</style>\n",
       "<table border=\"1\" class=\"dataframe\">\n",
       "  <thead>\n",
       "    <tr style=\"text-align: right;\">\n",
       "      <th></th>\n",
       "      <th>size_of_house</th>\n",
       "      <th>bedrooms</th>\n",
       "      <th>price</th>\n",
       "    </tr>\n",
       "  </thead>\n",
       "  <tbody>\n",
       "    <tr>\n",
       "      <th>0</th>\n",
       "      <td>0.131415</td>\n",
       "      <td>3</td>\n",
       "      <td>0.480890</td>\n",
       "    </tr>\n",
       "    <tr>\n",
       "      <th>1</th>\n",
       "      <td>-0.509641</td>\n",
       "      <td>3</td>\n",
       "      <td>-0.084983</td>\n",
       "    </tr>\n",
       "    <tr>\n",
       "      <th>2</th>\n",
       "      <td>0.507909</td>\n",
       "      <td>3</td>\n",
       "      <td>0.231097</td>\n",
       "    </tr>\n",
       "    <tr>\n",
       "      <th>3</th>\n",
       "      <td>-0.743677</td>\n",
       "      <td>2</td>\n",
       "      <td>-0.876398</td>\n",
       "    </tr>\n",
       "    <tr>\n",
       "      <th>4</th>\n",
       "      <td>1.271071</td>\n",
       "      <td>4</td>\n",
       "      <td>1.612637</td>\n",
       "    </tr>\n",
       "  </tbody>\n",
       "</table>\n",
       "</div>"
      ],
      "text/plain": [
       "   size_of_house  bedrooms     price\n",
       "0       0.131415         3  0.480890\n",
       "1      -0.509641         3 -0.084983\n",
       "2       0.507909         3  0.231097\n",
       "3      -0.743677         2 -0.876398\n",
       "4       1.271071         4  1.612637"
      ]
     },
     "execution_count": 10,
     "metadata": {},
     "output_type": "execute_result"
    }
   ],
   "source": [
    "from sklearn import preprocessing\n",
    "col = ['size_of_house', 'price']\n",
    "scaler = preprocessing.StandardScaler()\n",
    "data2[col] = pd.DataFrame(scaler.fit_transform(data2[col]),columns = data2[col].columns)\n",
    "data2.head()"
   ]
  },
  {
   "cell_type": "code",
   "execution_count": 11,
   "id": "2b1e9200",
   "metadata": {},
   "outputs": [
    {
     "name": "stdout",
     "output_type": "stream",
     "text": [
      "(46, 2) (46,)\n",
      "(46, 3) (46, 1)\n"
     ]
    }
   ],
   "source": [
    "# Loading vectors x and y\n",
    "x = np.array(data2.drop('price', axis = 1)[:-1])\n",
    "y = np.array(data2['price'][:-1])\n",
    "print(x.shape, y.shape)\n",
    "# Reshaping the data\n",
    "# Adding x0 to the matrix\n",
    "x = np.c_[np.ones(x.shape[0]),x]\n",
    "y = y.reshape(y.shape[0],1)\n",
    "print(x.shape, y.shape)"
   ]
  },
  {
   "cell_type": "code",
   "execution_count": 12,
   "id": "e1ac64f5",
   "metadata": {},
   "outputs": [
    {
     "data": {
      "text/plain": [
       "(3, 1)"
      ]
     },
     "execution_count": 12,
     "metadata": {},
     "output_type": "execute_result"
    }
   ],
   "source": [
    "# Assigning initial theta values\n",
    "theta = np.zeros((3,1))\n",
    "theta.shape"
   ]
  },
  {
   "cell_type": "code",
   "execution_count": 20,
   "id": "ee83b02e",
   "metadata": {},
   "outputs": [
    {
     "name": "stdout",
     "output_type": "stream",
     "text": [
      "h(x) = 0.21 + 0.88x1 -0.07x2\n",
      "Cost Calculation Time:  0.0009701251983642578\n"
     ]
    }
   ],
   "source": [
    "import time\n",
    "# Performing Regression\n",
    "alpha = 0.01\n",
    "itr = 50000\n",
    "start = time.time()\n",
    "theta, J_history = gradientDescent(x, y, theta, alpha, itr)\n",
    "predictions = predict(x, theta)\n",
    "end = time.time() - start\n",
    "print(f\"h(x) = {str(round(theta[0,0],2))} + {str(round(theta[1,0],2))}x1 {str(round(theta[2,0],2))}x2\")\n",
    "print(\"Cost Calculation Time: \", end)"
   ]
  },
  {
   "cell_type": "code",
   "execution_count": 21,
   "id": "bb3e8f6f",
   "metadata": {},
   "outputs": [
    {
     "name": "stdout",
     "output_type": "stream",
     "text": [
      "Accuracy:  72.912\n"
     ]
    }
   ],
   "source": [
    "from sklearn.metrics import r2_score\n",
    "\n",
    "print(\"Accuracy: \", round(r2_score(y, predictions)*100, 3))"
   ]
  },
  {
   "cell_type": "code",
   "execution_count": 22,
   "id": "15b8da18",
   "metadata": {},
   "outputs": [
    {
     "data": {
      "text/plain": [
       "array([[  2104., 399900.],\n",
       "       [  1600., 329900.],\n",
       "       [  2400., 369000.],\n",
       "       [  1416., 232000.],\n",
       "       [  3000., 539900.],\n",
       "       [  1985., 299900.],\n",
       "       [  1534., 314900.],\n",
       "       [  1427., 198999.],\n",
       "       [  1380., 212000.],\n",
       "       [  1494., 242500.],\n",
       "       [  1940., 239999.],\n",
       "       [  2000., 347000.],\n",
       "       [  1890., 329999.],\n",
       "       [  4478., 699900.],\n",
       "       [  1268., 259900.],\n",
       "       [  2300., 449900.],\n",
       "       [  1320., 299900.],\n",
       "       [  1236., 199900.],\n",
       "       [  2609., 499998.],\n",
       "       [  3031., 599000.],\n",
       "       [  1767., 252900.],\n",
       "       [  1888., 255000.],\n",
       "       [  1604., 242900.],\n",
       "       [  1962., 259900.],\n",
       "       [  3890., 573900.],\n",
       "       [  1100., 249900.],\n",
       "       [  1458., 464500.],\n",
       "       [  2526., 469000.],\n",
       "       [  2200., 475000.],\n",
       "       [  2637., 299900.],\n",
       "       [  1839., 349900.],\n",
       "       [  1000., 169900.],\n",
       "       [  2040., 314900.],\n",
       "       [  3137., 579900.],\n",
       "       [  1811., 285900.],\n",
       "       [  1437., 249900.],\n",
       "       [  1239., 229900.],\n",
       "       [  2132., 345000.],\n",
       "       [  4215., 549000.],\n",
       "       [  2162., 287000.],\n",
       "       [  1664., 368500.],\n",
       "       [  2238., 329900.],\n",
       "       [  2567., 314000.],\n",
       "       [  1200., 299000.],\n",
       "       [   852., 179900.],\n",
       "       [  1852., 299900.],\n",
       "       [  1203., 239500.]])"
      ]
     },
     "execution_count": 22,
     "metadata": {},
     "output_type": "execute_result"
    }
   ],
   "source": [
    "scaler.inverse_transform(data2[col])"
   ]
  },
  {
   "cell_type": "code",
   "execution_count": 24,
   "id": "05ab253d",
   "metadata": {},
   "outputs": [
    {
     "data": {
      "text/html": [
       "<div>\n",
       "<style scoped>\n",
       "    .dataframe tbody tr th:only-of-type {\n",
       "        vertical-align: middle;\n",
       "    }\n",
       "\n",
       "    .dataframe tbody tr th {\n",
       "        vertical-align: top;\n",
       "    }\n",
       "\n",
       "    .dataframe thead th {\n",
       "        text-align: right;\n",
       "    }\n",
       "</style>\n",
       "<table border=\"1\" class=\"dataframe\">\n",
       "  <thead>\n",
       "    <tr style=\"text-align: right;\">\n",
       "      <th></th>\n",
       "      <th>size_of_house</th>\n",
       "      <th>bedrooms</th>\n",
       "      <th>price</th>\n",
       "      <th>x0</th>\n",
       "    </tr>\n",
       "  </thead>\n",
       "  <tbody>\n",
       "    <tr>\n",
       "      <th>46</th>\n",
       "      <td>-1.0146</td>\n",
       "      <td>3</td>\n",
       "      <td>-0.815769</td>\n",
       "      <td>1</td>\n",
       "    </tr>\n",
       "  </tbody>\n",
       "</table>\n",
       "</div>"
      ],
      "text/plain": [
       "    size_of_house  bedrooms     price  x0\n",
       "46        -1.0146         3 -0.815769   1"
      ]
     },
     "execution_count": 24,
     "metadata": {},
     "output_type": "execute_result"
    }
   ],
   "source": [
    "# Predicting Value\n",
    "data2['x0'] = 1\n",
    "data2.tail(1)"
   ]
  },
  {
   "cell_type": "code",
   "execution_count": 33,
   "id": "ba9f78b3",
   "metadata": {},
   "outputs": [
    {
     "ename": "TypeError",
     "evalue": "'numpy.ndarray' object is not callable",
     "output_type": "error",
     "traceback": [
      "\u001b[1;31m---------------------------------------------------------------------------\u001b[0m",
      "\u001b[1;31mTypeError\u001b[0m                                 Traceback (most recent call last)",
      "\u001b[1;32m<ipython-input-33-d14d12419249>\u001b[0m in \u001b[0;36m<module>\u001b[1;34m\u001b[0m\n\u001b[1;32m----> 1\u001b[1;33m \u001b[0mpredict2\u001b[0m \u001b[1;33m=\u001b[0m \u001b[0mpredict\u001b[0m\u001b[1;33m(\u001b[0m\u001b[0mdata2\u001b[0m\u001b[1;33m[\u001b[0m\u001b[1;33m[\u001b[0m\u001b[1;34m'x0'\u001b[0m\u001b[1;33m,\u001b[0m\u001b[1;34m'size_of_house'\u001b[0m\u001b[1;33m,\u001b[0m\u001b[1;34m'bedrooms'\u001b[0m\u001b[1;33m]\u001b[0m\u001b[1;33m]\u001b[0m\u001b[1;33m.\u001b[0m\u001b[0miloc\u001b[0m\u001b[1;33m[\u001b[0m\u001b[1;33m-\u001b[0m\u001b[1;36m1\u001b[0m\u001b[1;33m]\u001b[0m\u001b[1;33m.\u001b[0m\u001b[0mvalues\u001b[0m\u001b[1;33m,\u001b[0m \u001b[0mtheta\u001b[0m\u001b[1;33m)\u001b[0m\u001b[1;33m\u001b[0m\u001b[1;33m\u001b[0m\u001b[0m\n\u001b[0m\u001b[0;32m      2\u001b[0m \u001b[0mprint\u001b[0m\u001b[1;33m(\u001b[0m\u001b[0mscaler\u001b[0m\u001b[1;33m.\u001b[0m\u001b[0minverse_transform\u001b[0m\u001b[1;33m(\u001b[0m\u001b[1;33m[\u001b[0m\u001b[0mint\u001b[0m\u001b[1;33m(\u001b[0m\u001b[0mdata2\u001b[0m\u001b[1;33m[\u001b[0m\u001b[1;34m'size_of_house'\u001b[0m\u001b[1;33m]\u001b[0m\u001b[1;33m.\u001b[0m\u001b[0miloc\u001b[0m\u001b[1;33m[\u001b[0m\u001b[1;33m-\u001b[0m\u001b[1;36m1\u001b[0m\u001b[1;33m]\u001b[0m\u001b[1;33m)\u001b[0m\u001b[1;33m,\u001b[0m\u001b[0mpredict2\u001b[0m\u001b[1;33m]\u001b[0m\u001b[1;33m)\u001b[0m\u001b[1;33m)\u001b[0m\u001b[1;33m\u001b[0m\u001b[1;33m\u001b[0m\u001b[0m\n\u001b[0;32m      3\u001b[0m \u001b[0msize\u001b[0m\u001b[1;33m,\u001b[0m \u001b[0mpredict3\u001b[0m \u001b[1;33m=\u001b[0m \u001b[0mscaler\u001b[0m\u001b[1;33m.\u001b[0m\u001b[0minverse_transform\u001b[0m\u001b[1;33m(\u001b[0m\u001b[1;33m[\u001b[0m\u001b[0mint\u001b[0m\u001b[1;33m(\u001b[0m\u001b[0mdata2\u001b[0m\u001b[1;33m[\u001b[0m\u001b[1;34m'size_of_house'\u001b[0m\u001b[1;33m]\u001b[0m\u001b[1;33m.\u001b[0m\u001b[0miloc\u001b[0m\u001b[1;33m[\u001b[0m\u001b[1;33m-\u001b[0m\u001b[1;36m1\u001b[0m\u001b[1;33m]\u001b[0m\u001b[1;33m)\u001b[0m\u001b[1;33m,\u001b[0m\u001b[0mpredict2\u001b[0m\u001b[1;33m]\u001b[0m\u001b[1;33m)\u001b[0m\u001b[1;33m\u001b[0m\u001b[1;33m\u001b[0m\u001b[0m\n\u001b[0;32m      4\u001b[0m \u001b[0mprint\u001b[0m\u001b[1;33m(\u001b[0m\u001b[1;34m'For a population of 6170 the predicted profit is $'\u001b[0m\u001b[1;33m,\u001b[0m\u001b[0mpredict3\u001b[0m\u001b[1;33m)\u001b[0m\u001b[1;33m\u001b[0m\u001b[1;33m\u001b[0m\u001b[0m\n",
      "\u001b[1;31mTypeError\u001b[0m: 'numpy.ndarray' object is not callable"
     ]
    }
   ],
   "source": [
    "predict2 = predict(data2[['x0','size_of_house','bedrooms']].iloc[-1].values, theta)\n",
    "print(scaler.inverse_transform([int(data2['size_of_house'].iloc[-1]),predict2]))\n",
    "size, predict3 = scaler.inverse_transform([int(data2['size_of_house'].iloc[-1]),predict2])\n",
    "print('For a population of 6170 the predicted profit is $',predict3)"
   ]
  },
  {
   "cell_type": "code",
   "execution_count": 246,
   "id": "d1c622cf",
   "metadata": {},
   "outputs": [
    {
     "data": {
      "image/png": "[encoded data removed]",
      "text/plain": [
       "<Figure size 432x288 with 1 Axes>"
      ]
     },
     "metadata": {
      "needs_background": "light"
     },
     "output_type": "display_data"
    }
   ],
   "source": [
    "# Cost Graph\n",
    "c = np.array((J_history))\n",
    "c = c.reshape((c.size, 1))\n",
    "plt.plot(c)\n",
    "plt.show()"
   ]
  },
  {
   "cell_type": "code",
   "execution_count": 247,
   "id": "6f6c7565",
   "metadata": {},
   "outputs": [
    {
     "data": {
      "text/plain": [
       "(8243, 1)"
      ]
     },
     "execution_count": 247,
     "metadata": {},
     "output_type": "execute_result"
    }
   ],
   "source": [
    "c.shape"
   ]
  },
  {
   "cell_type": "markdown",
   "id": "b4d35aad",
   "metadata": {},
   "source": [
    "Model learns the most in 8243 epochs."
   ]
  }
 ],
 "metadata": {
  "kernelspec": {
   "display_name": "Python 3",
   "language": "python",
   "name": "python3"
  },
  "language_info": {
   "codemirror_mode": {
    "name": "ipython",
    "version": 3
   },
   "file_extension": ".py",
   "mimetype": "text/x-python",
   "name": "python",
   "nbconvert_exporter": "python",
   "pygments_lexer": "ipython3",
   "version": "3.8.5"
  }
 },
 "nbformat": 4,
 "nbformat_minor": 5
}

{
 "cells": [
  {
   "cell_type": "markdown",
   "id": "757ceaf0",
   "metadata": {},
   "source": [
    "#### Roll No. : J014\n",
    "#### Name : Ankita Dasgupta\n",
    "#### Machine Learning Assignment 1 (30 Days of Code)"
   ]
  },
  {
   "cell_type": "markdown",
   "id": "d935b5a2",
   "metadata": {},
   "source": [
    "Day 0: Save a line of input from stdin to a variable, print Hello, World. on a single line, and finally print the value of your variable on a second line."
   ]
  },
  {
   "cell_type": "code",
   "execution_count": 7,
   "id": "afc1ef50",
   "metadata": {},
   "outputs": [
    {
     "name": "stdout",
     "output_type": "stream",
     "text": [
      "Hello, World.\n",
      "Potato\n"
     ]
    }
   ],
   "source": [
    "print(\"Hello, World.\")\n",
    "inputString = input()"
   ]
  },
  {
   "cell_type": "markdown",
   "id": "5790abcc",
   "metadata": {},
   "source": [
    "Day 1: Declare  variables: one of type int, one of type double, and one of type String.Read  lines of input from stdin (according to the sequence given in the Input Format section below) and initialize your  variables.Use the  operator to perform the following operations:\n",
    "* Print the sum of  plus your int variable on a new line.\n",
    "* Print the sum of  plus your double variable to a scale of one decimal place on a new line.\n",
    "* Concatenate  with the string you read as input and print the result on a new line."
   ]
  },
  {
   "cell_type": "code",
   "execution_count": 11,
   "id": "272dcaee",
   "metadata": {},
   "outputs": [
    {
     "name": "stdout",
     "output_type": "stream",
     "text": [
      "Integer: 3\n",
      "Double: 4\n",
      "String: mi\n",
      "7\n",
      "8.0\n",
      "HackerRank mi\n"
     ]
    }
   ],
   "source": [
    "i = 4\n",
    "str0 = \"HackerRank \"\n",
    "num1 = int(input(\"Integer: \"))\n",
    "num2 = float(input(\"Double: \"))\n",
    "str1 = input(\"String: \")\n",
    "print(i+num1)\n",
    "print(i+num2)\n",
    "print(str0 + str1)"
   ]
  },
  {
   "cell_type": "markdown",
   "id": "eb8d2908",
   "metadata": {},
   "source": [
    "Day 2: Given the meal price (base cost of a meal), tip percent (the percentage of the meal price being added as tip), and tax percent (the percentage of the meal price being added as tax) for a meal, find and print the meal's total cost. Round the result to the nearest integer."
   ]
  },
  {
   "cell_type": "code",
   "execution_count": 16,
   "id": "7e2c4979",
   "metadata": {},
   "outputs": [
    {
     "name": "stdout",
     "output_type": "stream",
     "text": [
      "Meal Cost: 12\n",
      "Tip Percent: 20\n",
      "Tax Percent: 8\n",
      "Final Cost:  15\n"
     ]
    }
   ],
   "source": [
    "def total_cost(meal, tip, tax):\n",
    "    return int(meal+meal*tip+meal*tax)\n",
    "meal_cost = float(input(\"Meal Cost: \"))\n",
    "tip_percent = float(input(\"Tip Percent: \"))/100\n",
    "tax_percent = float(input(\"Tax Percent: \"))/100\n",
    "print(\"Final Cost: \", total_cost(meal_cost, tip_percent, tax_percent))"
   ]
  },
  {
   "cell_type": "markdown",
   "id": "d7d78bb0",
   "metadata": {},
   "source": [
    "Day 3: Given an integer, , perform the following conditional actions:\n",
    "* If  is odd, print Weird\n",
    "* If  is even and in the inclusive range of  to , print Not Weird\n",
    "* If  is even and in the inclusive range of  to , print Weird\n",
    "* If  is even and greater than , print Not Weird"
   ]
  },
  {
   "cell_type": "code",
   "execution_count": 20,
   "id": "8fc08d16",
   "metadata": {},
   "outputs": [
    {
     "name": "stdout",
     "output_type": "stream",
     "text": [
      "24\n",
      "Not Weird\n"
     ]
    }
   ],
   "source": [
    "N = int(input())\n",
    "if N%2:\n",
    "    print(\"Weird\")\n",
    "elif not N%2 and N>=2 and N<=5:\n",
    "    print(\"Not Weird\")\n",
    "elif not N%2 and N>=6 and N<=20:\n",
    "    print(\"Weird\")   \n",
    "elif not N%2 and N>=20:\n",
    "    print(\"Not Weird\")"
   ]
  },
  {
   "cell_type": "markdown",
   "id": "4241e1b7",
   "metadata": {},
   "source": [
    "Day 4: Write a Person class with an instance variable, age, and a constructor that takes an integer, initialAge, as a parameter. The constructor must assign initialAge to  after confirming the argument passed as  is not negative; if a negative argument is passed as initialAge, the constructor should set age to 0 and print Age is not valid, setting age to 0.. In addition, you must write the following instance methods:\n",
    "\n",
    "1. yearPasses() should increase the age instance variable by 1.\n",
    "2. amIOld() should perform the following conditional actions:\n",
    "    * If age<13, print You are young..\n",
    "    * If age>=13 and age<18, print You are a teenager..\n",
    "    * Otherwise, print You are old.."
   ]
  },
  {
   "cell_type": "code",
   "execution_count": 25,
   "id": "6e5f2484",
   "metadata": {},
   "outputs": [],
   "source": [
    "class Person():\n",
    "    \n",
    "    def __init__(self, initialAge):\n",
    "        if initialAge < 0:\n",
    "            print(\"Age is not valid, setting age to 0.\")\n",
    "            self.initialAge = 0\n",
    "        else:\n",
    "            self.initialAge = initialAge\n",
    "        \n",
    "    def yearPasses(self):\n",
    "        self.initialAge = self.initialAge + 1\n",
    "        return self.initialAge\n",
    "    \n",
    "    def amIOld(self):\n",
    "        if self.initialAge<13:\n",
    "            print(\"You are young..\")\n",
    "        elif self.initialAge >= 13 and self.initialAge < 18:\n",
    "            print(\"You are a teenager..\")\n",
    "        else:\n",
    "            print(\"You are old..\")"
   ]
  },
  {
   "cell_type": "code",
   "execution_count": 33,
   "id": "fb0a29f1",
   "metadata": {},
   "outputs": [
    {
     "name": "stdout",
     "output_type": "stream",
     "text": [
      "You are young..\n",
      "You are a teenager..\n"
     ]
    }
   ],
   "source": [
    "p = Person(12)\n",
    "p.amIOld()\n",
    "p.yearPasses()\n",
    "p.amIOld()"
   ]
  },
  {
   "cell_type": "markdown",
   "id": "6b795a4d",
   "metadata": {},
   "source": [
    "Day 5: Given an integer, n, print its first 10 multiples. Each multiple nxi (where 1<=i<=10 ) should be printed on a new line in the form: n x i = result"
   ]
  },
  {
   "cell_type": "code",
   "execution_count": 34,
   "id": "21827b98",
   "metadata": {},
   "outputs": [
    {
     "name": "stdout",
     "output_type": "stream",
     "text": [
      "Enter Number: 6\n",
      "6 x 1 = 6\n",
      "6 x 2 = 12\n",
      "6 x 3 = 18\n",
      "6 x 4 = 24\n",
      "6 x 5 = 30\n",
      "6 x 6 = 36\n",
      "6 x 7 = 42\n",
      "6 x 8 = 48\n",
      "6 x 9 = 54\n",
      "6 x 10 = 60\n"
     ]
    }
   ],
   "source": [
    "n = int(input(\"Enter Number: \"))\n",
    "for i in range(1,11):\n",
    "    print(n, \"x\", i, \"=\", n*i)"
   ]
  },
  {
   "cell_type": "markdown",
   "id": "92524a04",
   "metadata": {},
   "source": [
    "Day 6: Given a string, S, of length N that is indexed from 0 to N-1, print its even-indexed and odd-indexed characters as 2 space-separated strings on a single line.\n",
    "\n",
    "Note: 0 is considered to be an even index."
   ]
  },
  {
   "cell_type": "code",
   "execution_count": 38,
   "id": "bcd21f32",
   "metadata": {},
   "outputs": [
    {
     "name": "stdout",
     "output_type": "stream",
     "text": [
      "Enter a string: po\n",
      " p o\n"
     ]
    }
   ],
   "source": [
    "S = input(\"Enter a string: \")\n",
    "N = len(S)\n",
    "even = \" \"\n",
    "odd = \" \"\n",
    "for i in  range(N):\n",
    "    if not i%2:\n",
    "        even += S[i]\n",
    "    else:\n",
    "        odd += S[i]\n",
    "print(even + odd)"
   ]
  },
  {
   "cell_type": "markdown",
   "id": "91872b45",
   "metadata": {},
   "source": [
    "Day 7: Given an array, A, of N integers, print A's elements in reverse order as a single line of space-separated numbers."
   ]
  },
  {
   "cell_type": "code",
   "execution_count": 47,
   "id": "97faa3d3",
   "metadata": {},
   "outputs": [
    {
     "name": "stdout",
     "output_type": "stream",
     "text": [
      "Array Size: 2\n",
      "> 1\n",
      "> 2\n",
      "2 1 "
     ]
    }
   ],
   "source": [
    "N = int(input(\"Array Size: \"))\n",
    "arr = []\n",
    "for i in range(N):\n",
    "    arr.append(int(input(\"> \")))\n",
    "               \n",
    "for i in arr[::-1]:\n",
    "    print(i, end=\" \")"
   ]
  },
  {
   "cell_type": "markdown",
   "id": "f9761f70",
   "metadata": {},
   "source": [
    "Day 8: Given n names and phone numbers, assemble a phone book that maps friends' names to their respective phone numbers. You will then be given an unknown number of names to query your phone book for. For each name queried, print the associated entry from your phone book on a new line in the form name=phoneNumber; if an entry for name is not found, print Not found instead."
   ]
  },
  {
   "cell_type": "code",
   "execution_count": 50,
   "id": "154b8c6a",
   "metadata": {},
   "outputs": [
    {
     "name": "stdout",
     "output_type": "stream",
     "text": [
      "n: 2\n",
      "mango:34343142\n",
      "berry:23112233\n",
      "Query: mango\n",
      "mango = 34343142\n",
      "Query: berry\n",
      "berry = 23112233\n",
      "Query: bob\n",
      "No record!\n",
      "Query: quit\n"
     ]
    }
   ],
   "source": [
    "phonebook = {}\n",
    "n = int(input(\"n: \"))\n",
    "for i in range(n):\n",
    "    inp = input().split(\":\")\n",
    "    phonebook[inp[0]] = int(inp[1])\n",
    "query = input(\"Query: \")\n",
    "while query != \"quit\":\n",
    "    try:\n",
    "        print(query,\"=\",phonebook[query])\n",
    "    except:\n",
    "        print(\"No record!\")\n",
    "    query = input(\"Query: \")"
   ]
  },
  {
   "cell_type": "markdown",
   "id": "2ca3883a",
   "metadata": {},
   "source": [
    "Day 9: Make a factorial function in. Be sure to use recursion.\n",
    "factorial has the following paramter:\n",
    "int n: an integer\n",
    "Returns\n",
    "int: the factorial of n"
   ]
  },
  {
   "cell_type": "code",
   "execution_count": 53,
   "id": "65aaac7a",
   "metadata": {},
   "outputs": [
    {
     "name": "stdout",
     "output_type": "stream",
     "text": [
      "> 23\n"
     ]
    },
    {
     "data": {
      "text/plain": [
       "25852016738884976640000"
      ]
     },
     "execution_count": 53,
     "metadata": {},
     "output_type": "execute_result"
    }
   ],
   "source": [
    "def fact(n):\n",
    "    if n == 0 or n==1:\n",
    "        return 1\n",
    "    else:\n",
    "        return n*fact(n-1)\n",
    "    \n",
    "fact(int(input(\"> \")))"
   ]
  },
  {
   "cell_type": "markdown",
   "id": "6d98be3a",
   "metadata": {},
   "source": [
    "Day 10: Given a base-10 integer, n, convert it to binary (base-2). Then find and print the base-10 integer denoting the maximum number of consecutive 1's in n's binary representation. When working with different bases, it is common to show the base as a subscript."
   ]
  },
  {
   "cell_type": "code",
   "execution_count": 63,
   "id": "d5ba6a83",
   "metadata": {},
   "outputs": [
    {
     "name": "stdout",
     "output_type": "stream",
     "text": [
      "> 23\n",
      "Binary: 10111 ₂\n",
      "3\n"
     ]
    }
   ],
   "source": [
    "n = int(input(\"> \"))\n",
    "output = \"\"\n",
    "while n>0:\n",
    "    output = str(n%2) + output\n",
    "    n = n//2\n",
    "print(\"Binary:\",output,\"\\N{SUBSCRIPT TWO}\")\n",
    "print(\"\",max([len(i) for i in output.split('0')]))"
   ]
  },
  {
   "cell_type": "markdown",
   "id": "1eab4af4",
   "metadata": {},
   "source": [
    "Day 11: Calculate the hourglass sum for every hourglass in A, then print the maximum hourglass sum."
   ]
  },
  {
   "cell_type": "code",
   "execution_count": 1,
   "id": "c027ed88",
   "metadata": {},
   "outputs": [
    {
     "name": "stdout",
     "output_type": "stream",
     "text": [
      "19\n"
     ]
    }
   ],
   "source": [
    "def get_mask(i, j):\n",
    "    ret = [(i, x) for x in range(j, j+3)]\n",
    "    ret += [(i+1, j+1)]\n",
    "    ret += [(i+2, x) for x in range(j, j+3)]\n",
    "    return ret\n",
    "\n",
    "A = [\n",
    "    [1, 1, 1, 0, 0, 0,],\n",
    "    [0, 1, 0, 0, 0, 0,],\n",
    "    [1, 1, 1, 0, 0, 0,],\n",
    "    [0, 0, 2, 4, 4, 0,],\n",
    "    [0, 0, 0, 2, 0, 0,],\n",
    "    [0, 0, 1, 2, 4, 0,]\n",
    "    ,]\n",
    "max_ = -1\n",
    "for i in range(0, len(A) - 2):\n",
    "    for j in range(len(A[0]) - 2):\n",
    "        to_check = get_mask(i, j)\n",
    "        sum_ = sum([A[i][j] for i, j in to_check])\n",
    "        if sum_ > max_:\n",
    "            max_ = sum_\n",
    "print(max_)"
   ]
  },
  {
   "attachments": {
    "image.png": {
     "image/png": "[encoded data removed]"
    }
   },
   "cell_type": "markdown",
   "id": "646006f2",
   "metadata": {},
   "source": [
    "Day 12: You are given two classes, Person and Student, where Person is the base class and Student is the derived class. Completed code for Person and a declaration for Student are provided for you in the editor. Observe that Student inherits all the properties of Person.\n",
    "\n",
    "Complete the Student class by writing the following:\n",
    "\n",
    "A Student class constructor, which has 4 parameters:\n",
    "A string, firstName.\n",
    "A string, lastName.\n",
    "An integer, idNumber.\n",
    "An integer array (or vector) of test scores, .\n",
    "A char calculate() method that calculates a Student object's average and returns the grade character representative of their calculated average:\n",
    "![image.png](attachment:image.png)"
   ]
  },
  {
   "cell_type": "code",
   "execution_count": 24,
   "id": "2393f586",
   "metadata": {},
   "outputs": [
    {
     "name": "stdout",
     "output_type": "stream",
     "text": [
      "Name:  Ankita , Dasgupta\n",
      "ID: 4865184\n",
      "Grade: E\n"
     ]
    }
   ],
   "source": [
    "class Student:\n",
    "    def __init__(self, first_name, last_name, id_number, scores):\n",
    "        self.first_name = first_name\n",
    "        self.last_name = last_name\n",
    "        self.id_number = id_number\n",
    "        self.scores = scores\n",
    "        \n",
    "    def calculate(self):\n",
    "        thresholds = {'T': 40,'D': 55,'P': 70,'A': 80,'E': 90,'O': 100}\n",
    "        avg = sum(self.scores) / len(self.scores)\n",
    "        for grade, t_score in thresholds.items():\n",
    "            if avg <= t_score:\n",
    "                return grade\n",
    "            \n",
    "s = Student('Ankita', 'Dasgupta', 4865184, [88, 93, 79, 91])\n",
    "print(\"Name: \",s.first_name,\",\",s.last_name)\n",
    "print(\"ID:\", s.id_number)\n",
    "print(\"Grade:\" ,s.calculate())"
   ]
  },
  {
   "cell_type": "markdown",
   "id": "222cf41e",
   "metadata": {},
   "source": [
    "Day 13: Given a Book class and a Solution class, write a MyBook class that does the following:\n",
    "\n",
    "Inherits from Book\n",
    "Has a parameterized constructor taking these  parameters:\n",
    "string title\n",
    "string author\n",
    "int price\n",
    "Implements the Book class' abstract display() method so it prints these  lines:\n",
    "1. Title, a space, and then the current instance's title.\n",
    "2. Author, a space, and then the current instance's author.\n",
    "3. Price, a space, and then the current instance's price."
   ]
  },
  {
   "cell_type": "code",
   "execution_count": 27,
   "id": "24ff051c",
   "metadata": {},
   "outputs": [
    {
     "name": "stdout",
     "output_type": "stream",
     "text": [
      "Title: The Enchanted Wood\n",
      "Author: Enid Blyton\n",
      "Price: 999\n"
     ]
    }
   ],
   "source": [
    "class Book:\n",
    "    def __init__(self, title, author):\n",
    "        self.title = title\n",
    "        self.author = author\n",
    "        \n",
    "class MyBook(Book):\n",
    "    def __init__(self, title, author, price):\n",
    "        Book.__init__(self, title, author)\n",
    "        self.price = price\n",
    "        \n",
    "    def display(self):\n",
    "        print(\"Title:\", self.title)\n",
    "        print(\"Author:\", self.author)\n",
    "        print(\"Price:\", self.price)\n",
    "            \n",
    "my_book1 = MyBook('The Enchanted Wood', 'Enid Blyton', 999)\n",
    "my_book1.display()"
   ]
  },
  {
   "cell_type": "markdown",
   "id": "58b78ced",
   "metadata": {},
   "source": [
    "Day 14: Complete the Difference class by writing the following:\n",
    "A class constructor that takes an array of integers as a parameter and saves it to the _elements instance variable.\n",
    "\n",
    "A computeDifference method that finds the maximum absolute difference between any 2 numbers in _elements and stores it in the maximumDifference instance variable."
   ]
  },
  {
   "cell_type": "code",
   "execution_count": 30,
   "id": "035b0d73",
   "metadata": {},
   "outputs": [
    {
     "name": "stdout",
     "output_type": "stream",
     "text": [
      "Elements:  [27  4 12 20 14 25 29 16 26 13]\n"
     ]
    },
    {
     "data": {
      "text/plain": [
       "25"
      ]
     },
     "execution_count": 30,
     "metadata": {},
     "output_type": "execute_result"
    }
   ],
   "source": [
    "import numpy as np\n",
    "class Difference:\n",
    "    def __init__(self, _elements):\n",
    "        self._elements = _elements\n",
    "        \n",
    "    def maximum_difference(self):\n",
    "        return max(self._elements) - min(self._elements)\n",
    "\n",
    "random = np.random.randint(1,30,10)\n",
    "print(\"Elements: \", random)\n",
    "dif = Difference(random)\n",
    "dif.maximum_difference()"
   ]
  },
  {
   "cell_type": "markdown",
   "id": "44a1ba15",
   "metadata": {},
   "source": [
    "Day 15: Complete the insert function in your editor so that it creates a new Node (pass data as the Node constructor argument) and inserts it at the tail of the linked list referenced by the head parameter. Once the new node is added, return the reference to the head node."
   ]
  },
  {
   "cell_type": "code",
   "execution_count": 35,
   "id": "ec7e6ae2",
   "metadata": {},
   "outputs": [
    {
     "name": "stdout",
     "output_type": "stream",
     "text": [
      "Size:4\n",
      "3\n",
      "6\n",
      "7\n",
      "4\n",
      "3 6 7 4 "
     ]
    }
   ],
   "source": [
    "class Node:\n",
    "    def __init__(self, data):\n",
    "        self.data = data\n",
    "        self.next = None\n",
    "        \n",
    "class Solution:\n",
    "    def display(self,head):\n",
    "        current = head\n",
    "        while current:\n",
    "            print(current.data,end=' ')\n",
    "            current = current.next\n",
    "            \n",
    "    def insert(self,head,data):\n",
    "        if head is None:\n",
    "            head = Node(data)\n",
    "        elif head.next is None:\n",
    "            head.next = Node(data)\n",
    "        else:\n",
    "            self.insert(head.next, data)\n",
    "        return head\n",
    "    \n",
    "s = Solution()\n",
    "T = int(input(\"Size:\"))\n",
    "head = None\n",
    "\n",
    "for i in range(T):\n",
    "    data=int(input())\n",
    "    head=s.insert(head,data)\n",
    "    \n",
    "s.display(head)"
   ]
  },
  {
   "cell_type": "markdown",
   "id": "d1d9f898",
   "metadata": {},
   "source": [
    "Day 16: Read a string, S, and print its integer value; if S cannot be converted to an integer, print Bad String."
   ]
  },
  {
   "cell_type": "code",
   "execution_count": 38,
   "id": "411464af",
   "metadata": {},
   "outputs": [
    {
     "name": "stdout",
     "output_type": "stream",
     "text": [
      "Enter String: 323\n",
      "323\n"
     ]
    }
   ],
   "source": [
    "S = input(\"Enter String: \")\n",
    "try:\n",
    "    print(int(S))\n",
    "except:\n",
    "    print(\"Bad String\")"
   ]
  },
  {
   "cell_type": "markdown",
   "id": "3867bb50",
   "metadata": {},
   "source": [
    "Day 17: Write a Calculator class with a single method: int power(int,int). The power method takes two integers, n and p, as parameters and returns the integer result of n^p. If either n or p is negative, then the method must throw an exception with the message: n and p should be non-negative."
   ]
  },
  {
   "cell_type": "code",
   "execution_count": 45,
   "id": "ed7676e4",
   "metadata": {},
   "outputs": [
    {
     "name": "stdout",
     "output_type": "stream",
     "text": [
      "243\n"
     ]
    }
   ],
   "source": [
    "class calculator:    \n",
    "    def power(self, n, p):\n",
    "        if n < 0 or p < 0:\n",
    "            print(\"n and p should be non-negative\")\n",
    "        else:\n",
    "            print(n ** p)\n",
    "\n",
    "c = calculator()\n",
    "c.power(3,5)"
   ]
  },
  {
   "cell_type": "markdown",
   "id": "e985dd8a",
   "metadata": {},
   "source": [
    "Day 18: First take each character in s, enqueue it in a queue, and also push that same character onto a stack. Once that's done, we must dequeue the first character from the queue and pop the top character off the stack, then compare the two characters to see if they are the same; as long as the characters match, we continue dequeueing, popping, and comparing each character until our containers are empty (a non-match means  isn't a palindrome).\n",
    "\n",
    "Write the following declarations and implementations:\n",
    "\n",
    "1. Two instance variables: one for your stack, and one for your queue.\n",
    "2. A void pushCharacter(char ch) method that pushes a character onto a stack.\n",
    "3. A void enqueueCharacter(char ch) method that enqueues a character in the queue instance variable.\n",
    "4. A char popCharacter() method that pops and returns the character at the top of the stack instance variable.\n",
    "5. A char dequeueCharacter() method that dequeues and returns the first character in the queue instance variable."
   ]
  },
  {
   "cell_type": "code",
   "execution_count": 50,
   "id": "902683a8",
   "metadata": {},
   "outputs": [
    {
     "name": "stdout",
     "output_type": "stream",
     "text": [
      "Palindrome\n"
     ]
    }
   ],
   "source": [
    "class Solution:\n",
    "    def __init__(self):\n",
    "        self.stack = []\n",
    "        self.queue = []\n",
    "    \n",
    "    def push_char(self, ch):\n",
    "        self.stack.append(ch)\n",
    "        \n",
    "    def enqueue_char(self, ch):\n",
    "        self.queue.append(ch)\n",
    "    \n",
    "    def pop_char(self):\n",
    "        try:\n",
    "            x = self.stack[-1]\n",
    "            self.stack = self.stack[:-1]\n",
    "            return x\n",
    "        except:\n",
    "            return None\n",
    "        \n",
    "    def dequeue(self):\n",
    "        try:\n",
    "            x = self.queue[0]\n",
    "            self.queue = self.queue[1:]\n",
    "            return x\n",
    "        except:\n",
    "            return None\n",
    "            \n",
    "str_s = Solution()\n",
    "S = 'racecar'\n",
    "\n",
    "for c in S:\n",
    "    str_s.push_char(c)\n",
    "    str_s.enqueue_char(c)\n",
    "    \n",
    "flag = True\n",
    "while True:\n",
    "    from_stack = str_s.pop_char()\n",
    "    from_queue = str_s.dequeue()\n",
    "    if from_stack == None:\n",
    "        break\n",
    "    if from_stack != from_queue:\n",
    "        flag = False\n",
    "        break\n",
    "        \n",
    "if flag:\n",
    "    print(\"Palindrome\")\n",
    "else:\n",
    "    print(\"Not Palindrome\")"
   ]
  },
  {
   "cell_type": "markdown",
   "id": "271a8622",
   "metadata": {},
   "source": [
    "Day 19: The AdvancedArithmetic interface and the method declaration for the abstract divisorSum(n) method are provided for you in the editor below.\n",
    "\n",
    "Complete the implementation of Calculator class, which implements the AdvancedArithmetic interface. The implementation for the divisorSum(n) method must return the sum of all divisors of n."
   ]
  },
  {
   "cell_type": "code",
   "execution_count": 54,
   "id": "bdb2f93f",
   "metadata": {},
   "outputs": [
    {
     "data": {
      "text/plain": [
       "14"
      ]
     },
     "execution_count": 54,
     "metadata": {},
     "output_type": "execute_result"
    }
   ],
   "source": [
    "class AdvancedArithmetic(object):\n",
    "    def divisorSum(n):\n",
    "        raise NotImplementedError\n",
    "        \n",
    "class Calculator(AdvancedArithmetic):\n",
    "    def divisorSum(self, n):\n",
    "        sum_ = 0\n",
    "        for i in range(1, n + 1):\n",
    "            if (n % i == 0):\n",
    "                sum_ += i\n",
    "        return sum_\n",
    "    \n",
    "s = Calculator()\n",
    "s.divisorSum(13)"
   ]
  },
  {
   "cell_type": "markdown",
   "id": "ef306a00",
   "metadata": {},
   "source": [
    "Day 20: Given an array, a, of size n distinct elements, sort the array in ascending order using the Bubble Sort algorithm above. Once sorted, print the following 3 lines:\n",
    "\n",
    "1. Array is sorted in numSwaps swaps\n",
    "        where numSwaps is the number of swaps that took place.\n",
    "2. First Element: firstElement\n",
    "        where firstElement is the first element in the sorted array.\n",
    "3. Last Element: lastElement\n",
    "        where lastElement is the last element in the sorted array."
   ]
  },
  {
   "cell_type": "code",
   "execution_count": 56,
   "id": "5fcd4453",
   "metadata": {},
   "outputs": [
    {
     "name": "stdout",
     "output_type": "stream",
     "text": [
      "Before Sort:  [ 7  8 14 10  9 13  9  1  1]\n",
      "Number of swaps:  21\n",
      "After Sort:  [ 1  1  7  8  9  9 10 13 14]\n"
     ]
    }
   ],
   "source": [
    "n = 9\n",
    "a = np.random.randint(1,15,n)\n",
    "num_swaps = 0\n",
    "print(\"Before Sort: \", a)\n",
    "for i in range(n):\n",
    "    flag = True\n",
    "    for j in range(n-1):\n",
    "        if a[j] > a[j+1]:\n",
    "            a[j], a[j+1] = a[j+1], a[j]\n",
    "            flag = False\n",
    "            num_swaps += 1\n",
    "            \n",
    "    if flag:\n",
    "        break\n",
    "        \n",
    "print(\"Number of swaps: \", num_swaps)\n",
    "print(\"After Sort: \", a)"
   ]
  },
  {
   "cell_type": "markdown",
   "id": "51d5423e",
   "metadata": {},
   "source": [
    "Day 22: The height of a binary search tree is the number of edges between the tree's root and its furthest leaf. You are given a pointer, root, pointing to the root of a binary search tree. Complete the getHeight function provided in your editor so that it returns the height of the binary search tree."
   ]
  },
  {
   "cell_type": "code",
   "execution_count": 62,
   "id": "c6ef7cd7",
   "metadata": {},
   "outputs": [
    {
     "name": "stdout",
     "output_type": "stream",
     "text": [
      "Size:6\n",
      "1\n",
      "2\n",
      "3\n",
      "4\n",
      "5\n",
      "6\n",
      "Height:  5\n"
     ]
    }
   ],
   "source": [
    "class Node:\n",
    "    def __init__(self,data):\n",
    "        self.right=self.left=None\n",
    "        self.data = data\n",
    "        \n",
    "class Solution:\n",
    "    def insert(self,root,data):\n",
    "        if root==None:\n",
    "            return Node(data)\n",
    "        else:\n",
    "            if data<=root.data:\n",
    "                cur=self.insert(root.left,data)\n",
    "                root.left=cur\n",
    "            else:\n",
    "                cur=self.insert(root.right,data)\n",
    "                root.right=cur\n",
    "                return root\n",
    "            \n",
    "    def getHeight(self,root):\n",
    "        if root == None or root.left == None and root.right == None:\n",
    "            return 0\n",
    "        else:\n",
    "            return 1 + max(self.getHeight(root.left), self.getHeight(root.right))\n",
    "        \n",
    "T=int(input(\"Size:\"))\n",
    "myTree=Solution()\n",
    "root = None\n",
    "for i in range(T):\n",
    "    data=int(input())\n",
    "    root=myTree.insert(root,data)\n",
    "    \n",
    "height=myTree.getHeight(root)\n",
    "print(\"Height: \",height)"
   ]
  },
  {
   "cell_type": "markdown",
   "id": "b57ae9a4",
   "metadata": {},
   "source": [
    "Day 23: A level-order traversal, also known as a breadth-first search, visits each level of a tree's nodes from left to right, top to bottom. You are given a pointer, root, pointing to the root of a binary search tree. Complete the levelOrder function provided in your editor so that it prints the level-order traversal of the binary search tree."
   ]
  },
  {
   "cell_type": "code",
   "execution_count": 68,
   "id": "45c1a509",
   "metadata": {},
   "outputs": [
    {
     "name": "stdout",
     "output_type": "stream",
     "text": [
      "Size:5\n",
      "1\n",
      "2\n",
      "3\n",
      "4\n",
      "5\n",
      "1 2 3 4 5\n"
     ]
    }
   ],
   "source": [
    "class Node:\n",
    "    def __init__(self,data):\n",
    "        self.right=self.left=None\n",
    "        self.data = data\n",
    "        \n",
    "class Solution:\n",
    "    def insert(self,root,data):\n",
    "        if root==None:\n",
    "            return Node(data)\n",
    "        else:\n",
    "            if data<=root.data:\n",
    "                cur=self.insert(root.left,data)\n",
    "                root.left=cur\n",
    "            else:\n",
    "                cur=self.insert(root.right,data)\n",
    "                root.right=cur\n",
    "                return root\n",
    "            \n",
    "    def getHeight(self,root):\n",
    "        if root == None or root.left == None and root.right == None:\n",
    "            return 0\n",
    "        else:\n",
    "            return 1 + max(self.getHeight(root.left), self.getHeight(root.right))\n",
    "        \n",
    "    def levelOrder(self, root):\n",
    "        ret = \"\"\n",
    "        queue = [root]\n",
    "        while queue:\n",
    "            current = queue.pop(0)\n",
    "            ret += str(current.data) + \" \"\n",
    "            if current.left:\n",
    "                queue.append(current.left)\n",
    "            if current.right:\n",
    "                queue.append(current.right)\n",
    "        print(ret[:-1])\n",
    "    \n",
    "T=int(input(\"Size:\"))\n",
    "myTree=Solution()\n",
    "root = None\n",
    "for i in range(T):\n",
    "    data=int(input())\n",
    "    root=myTree.insert(root,data)\n",
    "    \n",
    "myTree.levelOrder(root)"
   ]
  },
  {
   "cell_type": "markdown",
   "id": "8060ec2d",
   "metadata": {},
   "source": [
    "Day 24: A Node class is provided for you in the editor. A Node object has an integer data field, data, and a Node instance pointer, next, pointing to another node (i.e.: the next node in a list).\n",
    "\n",
    "A removeDuplicates function is declared in your editor, which takes a pointer to the head node of a linked list as a parameter. Complete removeDuplicates so that it deletes any duplicate nodes from the list and returns the head of the updated list."
   ]
  },
  {
   "cell_type": "code",
   "execution_count": 82,
   "id": "0e90cf56",
   "metadata": {},
   "outputs": [
    {
     "name": "stdout",
     "output_type": "stream",
     "text": [
      "Size: 6\n",
      "1\n",
      "2\n",
      "2\n",
      "3\n",
      "3\n",
      "4\n",
      "\n",
      "Before Removing Duplicates: \n",
      "1 2 2 3 3 4 \n",
      "After Removing Duplicates\n",
      "1 2 3 4 "
     ]
    }
   ],
   "source": [
    "class Node:\n",
    "    def __init__(self,data):\n",
    "        self.data = data\n",
    "        self.next = None \n",
    "        \n",
    "class Solution: \n",
    "    def insert(self,head,data):\n",
    "            p = Node(data)           \n",
    "            if head==None:\n",
    "                head=p\n",
    "            elif head.next==None:\n",
    "                head.next=p\n",
    "            else:\n",
    "                start=head\n",
    "                while(start.next!=None):\n",
    "                    start=start.next\n",
    "                start.next=p\n",
    "            return head  \n",
    "    def display(self,head):\n",
    "        current = head\n",
    "        while current:\n",
    "            print(current.data,end=' ')\n",
    "            current = current.next\n",
    "\n",
    "    def removeDuplicates(self,head):\n",
    "        node = head\n",
    "        while node:\n",
    "            if node.next:\n",
    "                if node.data == node.next.data:\n",
    "                    node.next = node.next.next\n",
    "                    continue\n",
    "            node = node.next\n",
    "        return head\n",
    "    \n",
    "mylist= Solution()\n",
    "T=int(input(\"Size: \"))\n",
    "head = None\n",
    "for i in range(T):\n",
    "    data=int(input())\n",
    "    head=mylist.insert(head,data)\n",
    "\n",
    "print(\"\\nBefore Removing Duplicates: \")\n",
    "mylist.display(head)\n",
    "head=mylist.removeDuplicates(head)\n",
    "print(\"\\nAfter Removing Duplicates\")\n",
    "mylist.display(head)"
   ]
  },
  {
   "cell_type": "markdown",
   "id": "35995a2f",
   "metadata": {},
   "source": [
    "Day 25: A prime is a natural number greater than 1 that has no positive divisors other than 1 and itself. Given a number, , determine and print whether it is Prime or Not prime."
   ]
  },
  {
   "cell_type": "code",
   "execution_count": 71,
   "id": "69f9169d",
   "metadata": {},
   "outputs": [
    {
     "name": "stdout",
     "output_type": "stream",
     "text": [
      "12\n",
      "Not prime\n"
     ]
    }
   ],
   "source": [
    "n = int(input())\n",
    "flag = True\n",
    "for i in range(2, int(n ** 0.5) + 1):\n",
    "    if n % i == 0:\n",
    "        flag = False\n",
    "        break\n",
    "        \n",
    "if flag and n != 1:\n",
    "    print(\"Prime\")\n",
    "else:\n",
    "    print('Not prime')"
   ]
  },
  {
   "cell_type": "markdown",
   "id": "05d8d6bf",
   "metadata": {},
   "source": [
    "Day 26: Your local library needs your help! Given the expected and actual return dates for a library book, create a program that calculates the fine (if any). The fee structure is as follows:\n",
    "\n",
    "1. If the book is returned on or before the expected return date, no fine will be charged (i.e.: fine=0).\n",
    "2. If the book is returned after the expected return day but still within the same calendar month and year as the expected return date, fine = 15Hackos x (number of days late).\n",
    "3. If the book is returned after the expected return month but still within the same calendar year as the expected return date, the fine = 500Hackos x (number of months late).\n",
    "4. If the book is returned after the calendar year in which it was expected, there is a fixed fine of 10000 Hackos."
   ]
  },
  {
   "cell_type": "code",
   "execution_count": 85,
   "id": "1103720c",
   "metadata": {},
   "outputs": [
    {
     "name": "stdout",
     "output_type": "stream",
     "text": [
      "Date Returned:9/6/2015\n",
      "Date Due6/6/2015\n",
      "45\n"
     ]
    }
   ],
   "source": [
    "return_date = [int(i) for i in input(\"Date Returned:\").split(\"/\")]\n",
    "due_date = [int(i) for i in input(\"Date Due\").split(\"/\")]\n",
    "\n",
    "if return_date[2] > due_date[2]:\n",
    "    print(10000)\n",
    "    \n",
    "else:\n",
    "    if return_date[2] == due_date[2]:\n",
    "        if return_date[1] > due_date[1]:\n",
    "            print(500 * (return_date[1] - due_date[1]))\n",
    "        elif return_date[1] == due_date[1] and return_date[0] > due_date[0]:\n",
    "            print(15 * (return_date[0] - due_date[0]))\n",
    "        else:\n",
    "            print(0)\n",
    "    else:\n",
    "        print(0)"
   ]
  },
  {
   "cell_type": "markdown",
   "id": "0d1cb13d",
   "metadata": {},
   "source": [
    "Day 27: This problem is about unit testing.\n",
    "\n",
    "Your company needs a function that meets the following requirements:\n",
    "\n",
    "* For a given array of n integers, the function returns the index of the element with the minimum value in the array. If there is more than one element with the minimum value, it returns the smallest one.\n",
    "* If an empty array is passed to the function, it raises an exception. A colleague has written this method. The implementation in Python is listed below. Implementations in other languages can be found in the code template.\n",
    "A coworker has prepared functions that will perform the tests and validate return values. Finish the implementation of 3 classes to provide data and expected results for the tests.\n",
    "\n",
    "Complete the following methods.\n",
    "\n",
    "In the class TestDataEmptyArray:\n",
    "\n",
    "* get_array() returns an empty array\n",
    "In the class TestDataUniqueValues:\n",
    "\n",
    "* get_array() returns an array of size at least 2 with all unique elements\n",
    "* get_expected_result() returns the expected minimum value index for this array\n",
    "In the class TestDataExactlyTwoDifferentMinimums:\n",
    "\n",
    "* get_array() returns an array where the minimum value occurs at exactly 2 indices\n",
    "* get_expected_result() returns the expected index\n",
    "Take a look at the code template to see the exact implementation of functions that your colleague already implemented.\n",
    "\n",
    "Note: The arrays are indexed from 0."
   ]
  },
  {
   "cell_type": "code",
   "execution_count": 90,
   "id": "3efc8af7",
   "metadata": {},
   "outputs": [
    {
     "name": "stdout",
     "output_type": "stream",
     "text": [
      "Tests Passed\n"
     ]
    }
   ],
   "source": [
    "def minimum_index(seq):\n",
    "    if len(seq) == 0:\n",
    "        raise ValueError(\"Cannot get the minimum value index from an empty sequence\")\n",
    "    min_idx = 0\n",
    "    for i in range(1, len(seq)):\n",
    "        if seq[i] < seq[min_idx]:\n",
    "            min_idx = i\n",
    "    return min_idx\n",
    "\n",
    "class TestDataEmptyArray(object):\n",
    "    @staticmethod\n",
    "    def get_array():\n",
    "        return []\n",
    "    \n",
    "class TestDataUniqueValues(object):\n",
    "    @staticmethod\n",
    "    def get_array():\n",
    "        return [1, 3, 2, 5]\n",
    "    \n",
    "    @staticmethod\n",
    "    def get_expected_result():\n",
    "        return 0\n",
    "    \n",
    "class TestDataExactlyTwoDifferentMinimums(object):\n",
    "    @staticmethod\n",
    "    def get_array():\n",
    "        return [1, 3, 2, 1, 5]\n",
    "    @staticmethod\n",
    "    def get_expected_result():\n",
    "        return 0\n",
    "\n",
    "def TestWithEmptyArray():\n",
    "    try:\n",
    "        seq = TestDataEmptyArray.get_array()\n",
    "        result = minimum_index(seq)\n",
    "    except ValueError as e:\n",
    "        pass\n",
    "    else:\n",
    "        assert False\n",
    "\n",
    "\n",
    "def TestWithUniqueValues():\n",
    "    seq = TestDataUniqueValues.get_array()\n",
    "    assert len(seq) >= 2\n",
    "\n",
    "    assert len(list(set(seq))) == len(seq)\n",
    "\n",
    "    expected_result = TestDataUniqueValues.get_expected_result()\n",
    "    result = minimum_index(seq)\n",
    "    assert result == expected_result\n",
    "\n",
    "\n",
    "def TestiWithExactyTwoDifferentMinimums():\n",
    "    seq = TestDataExactlyTwoDifferentMinimums.get_array()\n",
    "    assert len(seq) >= 2\n",
    "    tmp = sorted(seq)\n",
    "    assert tmp[0] == tmp[1] and (len(tmp) == 2 or tmp[1] < tmp[2])\n",
    "\n",
    "    expected_result = TestDataExactlyTwoDifferentMinimums.get_expected_result()\n",
    "    result = minimum_index(seq)\n",
    "    assert result == expected_result\n",
    "    \n",
    "TestWithEmptyArray()\n",
    "TestWithUniqueValues()\n",
    "TestiWithExactyTwoDifferentMinimums()\n",
    "print(\"Tests Passed\")"
   ]
  },
  {
   "cell_type": "markdown",
   "id": "ab2da90a",
   "metadata": {},
   "source": [
    "Day 28: Consider a database table, Emails, which has the attributes First Name and Email ID. Given N rows of data simulating the Emails table, print an alphabetically-ordered list of people whose email address ends in @gmail.com."
   ]
  },
  {
   "cell_type": "code",
   "execution_count": 96,
   "id": "7f572f75",
   "metadata": {},
   "outputs": [
    {
     "name": "stdout",
     "output_type": "stream",
     "text": [
      "Size: 6\n",
      "tanya tanya@gmail.com\n",
      "riya riya@gmail.com\n",
      "julia julia@julia.me\n",
      "julia sjulia@gmail.com\n",
      "julia julia@gmail.com\n",
      "samantha samantha@gmail.com\n",
      "\n",
      "List of Names: \n",
      "julia\n",
      "julia\n",
      "riya\n",
      "samantha\n",
      "tanya\n"
     ]
    }
   ],
   "source": [
    "N = int(input(\"Size: \").strip())\n",
    "names = []\n",
    "for N_itr in range(N):\n",
    "    i = input().split()\n",
    "    if '@gmail.com' in i[1]:\n",
    "        names.append(i[0])\n",
    "\n",
    "print(\"\\nList of Names: \")\n",
    "for name in sorted(names):\n",
    "    print(name)"
   ]
  },
  {
   "cell_type": "markdown",
   "id": "c13a8e04",
   "metadata": {},
   "source": [
    "Day 29: Given set S = {1,2,3,...,N}. Find two integers, A and B (where A<B), from set S such that the value of A&B is the maximum possible and also less than a given integer, K. In this case, & represents the bitwise AND operator."
   ]
  },
  {
   "cell_type": "code",
   "execution_count": 98,
   "id": "aebc2a4a",
   "metadata": {},
   "outputs": [
    {
     "name": "stdout",
     "output_type": "stream",
     "text": [
      "Size: 3\n",
      "5 2\n",
      "8 5\n",
      "2 2\n",
      "\n",
      "Outputs: \n",
      "1\n",
      "4\n",
      "0\n"
     ]
    }
   ],
   "source": [
    "def bitwiseAnd(N, K):\n",
    "    max_possible = K | (K-1)\n",
    "    if max_possible <= N:\n",
    "        return K - 1\n",
    "    else:\n",
    "        return K - 2\n",
    "\n",
    "T = int(input(\"Size: \").strip())\n",
    "output = []\n",
    "for T_itr in range(T):\n",
    "    i = input().split()\n",
    "    output.append(bitwiseAnd(int(i[0]),int(i[1])))\n",
    "    \n",
    "print(\"\\nOutputs: \")\n",
    "for o in output:\n",
    "    print(o)"
   ]
  }
 ],
 "metadata": {
  "kernelspec": {
   "display_name": "tfod",
   "language": "python",
   "name": "tfod"
  },
  "language_info": {
   "codemirror_mode": {
    "name": "ipython",
    "version": 3
   },
   "file_extension": ".py",
   "mimetype": "text/x-python",
   "name": "python",
   "nbconvert_exporter": "python",
   "pygments_lexer": "ipython3",
   "version": "3.8.5"
  }
 },
 "nbformat": 4,
 "nbformat_minor": 5
}

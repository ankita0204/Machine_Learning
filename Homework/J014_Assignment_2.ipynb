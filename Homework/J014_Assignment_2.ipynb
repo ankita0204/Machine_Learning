{
 "cells": [
  {
   "cell_type": "markdown",
   "id": "63613b69",
   "metadata": {},
   "source": [
    "#### Roll No. : J014\n",
    "#### Name : Ankita Dasgupta\n",
    "#### Machine Learning Assignment 2"
   ]
  },
  {
   "cell_type": "code",
   "execution_count": 6,
   "id": "72e71f01",
   "metadata": {},
   "outputs": [
    {
     "name": "stdout",
     "output_type": "stream",
     "text": [
      "Matrix A : \n",
      " [[ 5  9  6]\n",
      " [39  9 29]\n",
      " [39 15 27]]\n",
      "Matrix B : \n",
      " [[31 16 29]\n",
      " [ 8 32 26]\n",
      " [ 9 12 11]]\n",
      "Matrix C : \n",
      " [[16 16 37]\n",
      " [26 33 20]\n",
      " [20 26 25]]\n",
      "Identity Matrix : \n",
      " [[1. 0. 0.]\n",
      " [0. 1. 0.]\n",
      " [0. 0. 1.]]\n"
     ]
    }
   ],
   "source": [
    "import numpy as np\n",
    "\n",
    "A = np.random.randint(1,40,9)\n",
    "A = A.reshape((3,3))\n",
    "B = np.random.randint(1,40,9)\n",
    "B = B.reshape((3,3))\n",
    "C = np.random.randint(1,40,9)\n",
    "C = C.reshape((3,3))\n",
    "I = np.identity(3)\n",
    "\n",
    "print('Matrix A : \\n', A)\n",
    "print('Matrix B : \\n', B)\n",
    "print('Matrix C : \\n', C)\n",
    "print('Identity Matrix : \\n', I)"
   ]
  },
  {
   "cell_type": "markdown",
   "id": "b72a3210",
   "metadata": {},
   "source": [
    "#### Proving all the multiplication properties for matrices\n",
    "#### Commutative property:\n",
    "#### A.B = B.A"
   ]
  },
  {
   "cell_type": "code",
   "execution_count": 7,
   "id": "0407d56d",
   "metadata": {},
   "outputs": [
    {
     "name": "stdout",
     "output_type": "stream",
     "text": [
      "A.B : \n",
      " [[ 281  440  445]\n",
      " [1542 1260 1684]\n",
      " [1572 1428 1818]]\n",
      "B.A : \n",
      " [[1910  858 1433]\n",
      " [2302  750 1678]\n",
      " [ 942  354  699]]\n"
     ]
    }
   ],
   "source": [
    "A_dot_B = A.dot(B)\n",
    "B_dot_A = B.dot(A)\n",
    "print('A.B : \\n', A_dot_B)\n",
    "print('B.A : \\n', B_dot_A)"
   ]
  },
  {
   "cell_type": "markdown",
   "id": "334ccc61",
   "metadata": {},
   "source": [
    "#### A.B is not equal to B.A\n",
    "#### Therefore commutative property is not applicable for matrix multiplication"
   ]
  },
  {
   "cell_type": "markdown",
   "id": "369cf097",
   "metadata": {},
   "source": [
    "#### Associative Property:\n",
    "#### (A*B)*C=A*(B*C)"
   ]
  },
  {
   "cell_type": "code",
   "execution_count": 8,
   "id": "82925743",
   "metadata": {},
   "outputs": [
    {
     "name": "stdout",
     "output_type": "stream",
     "text": [
      "(A.B).C : \n",
      " [[ 24836  30586  30322]\n",
      " [ 91112 110036 124354]\n",
      " [ 98640 119544 132174]]\n",
      "A.(B.C) : \n",
      " [[ 24836  30586  30322]\n",
      " [ 91112 110036 124354]\n",
      " [ 98640 119544 132174]]\n"
     ]
    }
   ],
   "source": [
    "print('(A.B).C : \\n', np.dot(A, B).dot(C))\n",
    "print('A.(B.C) : \\n', A.dot(np.dot(B, C)))"
   ]
  },
  {
   "cell_type": "markdown",
   "id": "69321532",
   "metadata": {},
   "source": [
    "#### Distributive Property:\n",
    "#### A ( B + C ) = A B + A C"
   ]
  },
  {
   "cell_type": "code",
   "execution_count": 9,
   "id": "6edbfdc9",
   "metadata": {},
   "outputs": [
    {
     "name": "stdout",
     "output_type": "stream",
     "text": [
      "A.(B+C) : \n",
      " [[ 715  973  960]\n",
      " [2980 2935 4032]\n",
      " [3126 3249 4236]]\n",
      "A.B + A.C : \n",
      " [[ 715  973  960]\n",
      " [2980 2935 4032]\n",
      " [3126 3249 4236]]\n"
     ]
    }
   ],
   "source": [
    "print(\"A.(B+C) : \\n\", np.dot(A, B+C))\n",
    "print('A.B + A.C : \\n', np.dot(A, B) + np.dot(A, C))"
   ]
  },
  {
   "cell_type": "markdown",
   "id": "fd2e9523",
   "metadata": {},
   "source": [
    "#### Multiplicative Identity Property:\n",
    "#### AI = IA"
   ]
  },
  {
   "cell_type": "code",
   "execution_count": 10,
   "id": "8cc7d960",
   "metadata": {},
   "outputs": [
    {
     "name": "stdout",
     "output_type": "stream",
     "text": [
      "A.I : \n",
      " [[ 5.  9.  6.]\n",
      " [39.  9. 29.]\n",
      " [39. 15. 27.]]\n",
      "I.A :\n",
      " [[ 5.  9.  6.]\n",
      " [39.  9. 29.]\n",
      " [39. 15. 27.]]\n"
     ]
    }
   ],
   "source": [
    "print('A.I : \\n', np.dot(A, I))\n",
    "print('I.A :\\n', np.dot(I, A))"
   ]
  },
  {
   "cell_type": "markdown",
   "id": "af22f1a3",
   "metadata": {},
   "source": [
    "#### Multiplicative Property of Zero:\n",
    "#### 0 A  = A 0 = 0"
   ]
  },
  {
   "cell_type": "code",
   "execution_count": 11,
   "id": "511035f3",
   "metadata": {},
   "outputs": [
    {
     "name": "stdout",
     "output_type": "stream",
     "text": [
      "A.0 : \n",
      " [[0. 0. 0.]\n",
      " [0. 0. 0.]\n",
      " [0. 0. 0.]]\n",
      "0.A : \n",
      " [[0. 0. 0.]\n",
      " [0. 0. 0.]\n",
      " [0. 0. 0.]]\n"
     ]
    }
   ],
   "source": [
    "O = np.zeros(9).reshape(3, 3)\n",
    "print('A.0 : \\n', np.dot(A, O))\n",
    "print('0.A : \\n', np.dot(O, A))"
   ]
  },
  {
   "cell_type": "markdown",
   "id": "be9310c5",
   "metadata": {},
   "source": [
    "#### Dimension Property:\n",
    "#### The product of an m × n and n×k matrix is an m × k "
   ]
  },
  {
   "cell_type": "code",
   "execution_count": 17,
   "id": "66daf780",
   "metadata": {},
   "outputs": [
    {
     "name": "stdout",
     "output_type": "stream",
     "text": [
      "[[35 12 33 28 28 25]\n",
      " [18 16 22 34 33 24]\n",
      " [11 20 36 39  3 12]]\n",
      "\tX\n",
      "[[26  1 25  7]\n",
      " [ 9 14 31 32]\n",
      " [24 25 19  4]\n",
      " [ 7 21 21 37]\n",
      " [26  5 15  6]\n",
      " [36  4 13 34]]\n",
      "\t=\n",
      "[[3634 1856 3207 2815]\n",
      " [3100 1767 2885 2998]\n",
      " [2113 2073 2599 2730]] \n",
      "\n",
      " 3x6 matrix X 6x4 matrix = 3x4 matrix\n"
     ]
    }
   ],
   "source": [
    "m,n,k = 3,6,4\n",
    "mat_mn = np.random.randint(1,40,m*n)\n",
    "mat_mn = mat_mn.reshape((m,n))\n",
    "mat_nk = np.random.randint(1,40,n*k)\n",
    "mat_nk = mat_nk.reshape((n,k))\n",
    "mat_mult = np.dot(mat_mn, mat_nk)\n",
    "result_x, result_y = mat_mult.shape\n",
    "print(mat_mn)\n",
    "print(\"\\tX\")\n",
    "print(mat_nk)\n",
    "print(\"\\t=\")\n",
    "print(mat_mult,\"\\n\")\n",
    "print(f' {m}x{n} matrix X {n}x{k} matrix = {result_x}x{result_y} matrix')"
   ]
  },
  {
   "cell_type": "markdown",
   "id": "d549f904",
   "metadata": {},
   "source": [
    "#### Matrix Inverse:"
   ]
  },
  {
   "cell_type": "code",
   "execution_count": 24,
   "id": "4ebf5a40",
   "metadata": {},
   "outputs": [
    {
     "name": "stdout",
     "output_type": "stream",
     "text": [
      "A:\n",
      " [[ 5  9  6]\n",
      " [39  9 29]\n",
      " [39 15 27]]\n",
      "INV(A):\n",
      " [[-0.16753927 -0.13350785  0.18062827]\n",
      " [ 0.06806283 -0.08638743  0.07766143]\n",
      " [ 0.20418848  0.2408377  -0.26701571]]\n"
     ]
    }
   ],
   "source": [
    "print(\"A:\\n\", A)\n",
    "print(\"INV(A):\\n\", np.linalg.inv(A))"
   ]
  },
  {
   "cell_type": "markdown",
   "id": "0eb4d1a5",
   "metadata": {},
   "source": [
    "#### Comparison between numpy and looping"
   ]
  },
  {
   "cell_type": "code",
   "execution_count": 26,
   "id": "e944b975",
   "metadata": {},
   "outputs": [
    {
     "name": "stdout",
     "output_type": "stream",
     "text": [
      "Time for loops :  161.18343591690063\n",
      "Time for numpy :  18.771825790405273\n"
     ]
    }
   ],
   "source": [
    "import time\n",
    "size = 10000\n",
    "np_mat_A = np.random.randn(size, size)\n",
    "np_mat_B = np.random.randn(size, size)\n",
    "list_mat_A = [list(i) for i in np_mat_A]\n",
    "list_mat_B = [list(i)for i in np_mat_B]\n",
    "start_loop = time.time()\n",
    "list_mat_C = []\n",
    "for i in range(size) :\n",
    "    row = []\n",
    "    for j in range(size) :\n",
    "        row.append(list_mat_A[i][j] + list_mat_B[i][j])\n",
    "    list_mat_C.append(row)\n",
    "end_loop = time.time()\n",
    "start_np = time.time()\n",
    "np_mat_C = np_mat_A + np_mat_B\n",
    "end_np = time.time()\n",
    "print('Time for loops : ', end_loop - start_loop)\n",
    "print('Time for numpy : ', end_np - start_np)"
   ]
  },
  {
   "cell_type": "markdown",
   "id": "fcbc8cf5",
   "metadata": {},
   "source": [
    "#### Hence, we can say that using Numpy is much faster than using loops"
   ]
  },
  {
   "cell_type": "code",
   "execution_count": null,
   "id": "4edc3bbd",
   "metadata": {},
   "outputs": [],
   "source": []
  }
 ],
 "metadata": {
  "kernelspec": {
   "display_name": "tfod",
   "language": "python",
   "name": "tfod"
  },
  "language_info": {
   "codemirror_mode": {
    "name": "ipython",
    "version": 3
   },
   "file_extension": ".py",
   "mimetype": "text/x-python",
   "name": "python",
   "nbconvert_exporter": "python",
   "pygments_lexer": "ipython3",
   "version": "3.8.5"
  }
 },
 "nbformat": 4,
 "nbformat_minor": 5
}

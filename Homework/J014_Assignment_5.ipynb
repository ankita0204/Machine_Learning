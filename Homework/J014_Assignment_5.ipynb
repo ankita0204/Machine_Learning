{
 "cells": [
  {
   "cell_type": "markdown",
   "id": "9c997349",
   "metadata": {},
   "source": [
    "## Implementation of KNN from Scratch \n",
    "### Name: Ankita Dasgupta\n",
    "### Roll No: J014"
   ]
  },
  {
   "cell_type": "code",
   "execution_count": 1,
   "id": "ff340452",
   "metadata": {},
   "outputs": [],
   "source": [
    "import numpy as np\n",
    "import pandas as pd\n",
    "from scipy.stats import mode\n",
    "from numpy.random import randint\n",
    "from sklearn.datasets import load_iris\n",
    "from sklearn.metrics import accuracy_score\n",
    "from sklearn.model_selection import train_test_split"
   ]
  },
  {
   "cell_type": "code",
   "execution_count": 4,
   "id": "44aae1ee",
   "metadata": {},
   "outputs": [],
   "source": [
    "X = load_iris().data\n",
    "y = load_iris().target\n",
    "cols = load_iris().data"
   ]
  },
  {
   "cell_type": "code",
   "execution_count": 5,
   "id": "e36061e5",
   "metadata": {},
   "outputs": [
    {
     "data": {
      "text/plain": [
       "((120, 4), (30, 4), (120,), (30,))"
      ]
     },
     "execution_count": 5,
     "metadata": {},
     "output_type": "execute_result"
    }
   ],
   "source": [
    "X_train, X_test, y_train, y_test = train_test_split(X, y, test_size = 0.2)\n",
    "X_train.shape, X_test.shape, y_train.shape, y_test.shape"
   ]
  },
  {
   "cell_type": "code",
   "execution_count": 6,
   "id": "3d249480",
   "metadata": {},
   "outputs": [],
   "source": [
    "# Euclidean Distance Function\n",
    "def e_d(p1,p2):\n",
    "    return np.sqrt(np.sum((p1-p2)**2))"
   ]
  },
  {
   "cell_type": "code",
   "execution_count": 9,
   "id": "b80c5596",
   "metadata": {},
   "outputs": [],
   "source": [
    "def kNN(x, y, inp, k):\n",
    "    labels = []\n",
    "    for i in inp:\n",
    "        dist = []\n",
    "        for j in range(len(x)):\n",
    "            d = e_d(np.array(x[j,:]), i)\n",
    "            dist.append(d)\n",
    "        dist = np.array(dist)\n",
    "        dist_new = np.argsort(dist)[:k]\n",
    "        l = y[dist_new]\n",
    "        # Majority Voting\n",
    "        lab = mode(l)\n",
    "        lab = lab.mode[0]\n",
    "        labels.append(lab)\n",
    "    return labels"
   ]
  },
  {
   "cell_type": "code",
   "execution_count": 13,
   "id": "ecfb8829",
   "metadata": {},
   "outputs": [
    {
     "data": {
      "text/plain": [
       "KNeighborsClassifier()"
      ]
     },
     "execution_count": 13,
     "metadata": {},
     "output_type": "execute_result"
    }
   ],
   "source": [
    "from sklearn.neighbors import KNeighborsClassifier as KNN\n",
    "\n",
    "clf = KNN(n_neighbors=5)\n",
    "clf.fit(X_train, y_train)"
   ]
  },
  {
   "cell_type": "code",
   "execution_count": 14,
   "id": "1cafdb0a",
   "metadata": {},
   "outputs": [
    {
     "name": "stdout",
     "output_type": "stream",
     "text": [
      "Our Model 0.9666666666666667\n",
      "sklearn Model 0.9666666666666667\n"
     ]
    }
   ],
   "source": [
    "y_pred_1 = kNN(X_train, y_train, X_test, 5)\n",
    "y_pred_2 = clf.predict(X_test)\n",
    "print(\"Our Model\", accuracy_score(y_test,y_pred_1))\n",
    "print(\"sklearn Model\", accuracy_score(y_test,y_pred_2))"
   ]
  }
 ],
 "metadata": {
  "kernelspec": {
   "display_name": "Python 3",
   "language": "python",
   "name": "python3"
  },
  "language_info": {
   "codemirror_mode": {
    "name": "ipython",
    "version": 3
   },
   "file_extension": ".py",
   "mimetype": "text/x-python",
   "name": "python",
   "nbconvert_exporter": "python",
   "pygments_lexer": "ipython3",
   "version": "3.8.5"
  }
 },
 "nbformat": 4,
 "nbformat_minor": 5
}

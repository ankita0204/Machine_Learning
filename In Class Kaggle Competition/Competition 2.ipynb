{
 "cells": [
  {
   "cell_type": "code",
   "execution_count": 2,
   "id": "d2b6cd86",
   "metadata": {
    "_cell_guid": "b1076dfc-b9ad-4769-8c92-a6c4dae69d19",
    "_uuid": "8f2839f25d086af736a60e9eeb907d3b93b6e0e5",
    "execution": {
     "iopub.execute_input": "2021-09-24T07:58:05.311717Z",
     "iopub.status.busy": "2021-09-24T07:58:05.311137Z",
     "iopub.status.idle": "2021-09-24T07:58:06.486705Z",
     "shell.execute_reply": "2021-09-24T07:58:06.487520Z",
     "shell.execute_reply.started": "2021-09-24T07:43:00.068558Z"
    },
    "papermill": {
     "duration": 1.203807,
     "end_time": "2021-09-24T07:58:06.487996",
     "exception": false,
     "start_time": "2021-09-24T07:58:05.284189",
     "status": "completed"
    },
    "tags": []
   },
   "outputs": [
    {
     "name": "stdout",
     "output_type": "stream",
     "text": [
      "D:\\College\\Semester 5\\Subjects\\Machine Learning\\Competitions\\comp2\n"
     ]
    }
   ],
   "source": [
    "# importing libraries\n",
    "import numpy as np\n",
    "import pandas as pd\n",
    "import seaborn as sns\n",
    "import matplotlib.pyplot as plt\n",
    "\n",
    "from sklearn.preprocessing import StandardScaler,MinMaxScaler\n",
    "from sklearn.model_selection import train_test_split\n",
    "\n",
    "from sklearn.svm import SVC\n",
    "from sklearn import metrics\n",
    "\n",
    "# predict global sales \n",
    "# import data\n",
    "import os\n",
    "path = os.getcwd()\n",
    "print(path)\n",
    "train = pd.read_csv(path+'/train.csv')"
   ]
  },
  {
   "cell_type": "code",
   "execution_count": 3,
   "id": "ed0266b0",
   "metadata": {
    "execution": {
     "iopub.execute_input": "2021-09-24T07:58:06.548568Z",
     "iopub.status.busy": "2021-09-24T07:58:06.547675Z",
     "iopub.status.idle": "2021-09-24T07:58:06.575153Z",
     "shell.execute_reply": "2021-09-24T07:58:06.574533Z",
     "shell.execute_reply.started": "2021-09-24T07:43:00.291404Z"
    },
    "papermill": {
     "duration": 0.060891,
     "end_time": "2021-09-24T07:58:06.575297",
     "exception": false,
     "start_time": "2021-09-24T07:58:06.514406",
     "status": "completed"
    },
    "tags": []
   },
   "outputs": [
    {
     "data": {
      "text/html": [
       "<div>\n",
       "<style scoped>\n",
       "    .dataframe tbody tr th:only-of-type {\n",
       "        vertical-align: middle;\n",
       "    }\n",
       "\n",
       "    .dataframe tbody tr th {\n",
       "        vertical-align: top;\n",
       "    }\n",
       "\n",
       "    .dataframe thead th {\n",
       "        text-align: right;\n",
       "    }\n",
       "</style>\n",
       "<table border=\"1\" class=\"dataframe\">\n",
       "  <thead>\n",
       "    <tr style=\"text-align: right;\">\n",
       "      <th></th>\n",
       "      <th>Mean of the integrated profile</th>\n",
       "      <th>Standard deviation of the integrated profile</th>\n",
       "      <th>Excess kurtosis of the integrated profile</th>\n",
       "      <th>Skewness of the integrated profile</th>\n",
       "      <th>Mean of the DM-SNR curve</th>\n",
       "      <th>Standard deviation of the DM-SNR curve</th>\n",
       "      <th>Excess kurtosis of the DM-SNR curve</th>\n",
       "      <th>Skewness of the DM-SNR curve</th>\n",
       "      <th>target_class</th>\n",
       "    </tr>\n",
       "  </thead>\n",
       "  <tbody>\n",
       "    <tr>\n",
       "      <th>Mean of the integrated profile</th>\n",
       "      <td>1.000000</td>\n",
       "      <td>0.552478</td>\n",
       "      <td>-0.873473</td>\n",
       "      <td>-0.738974</td>\n",
       "      <td>-0.287538</td>\n",
       "      <td>-0.297747</td>\n",
       "      <td>0.227218</td>\n",
       "      <td>0.139540</td>\n",
       "      <td>-0.672304</td>\n",
       "    </tr>\n",
       "    <tr>\n",
       "      <th>Standard deviation of the integrated profile</th>\n",
       "      <td>0.552478</td>\n",
       "      <td>1.000000</td>\n",
       "      <td>-0.526525</td>\n",
       "      <td>-0.543117</td>\n",
       "      <td>0.012791</td>\n",
       "      <td>-0.045540</td>\n",
       "      <td>0.025596</td>\n",
       "      <td>0.024178</td>\n",
       "      <td>-0.362363</td>\n",
       "    </tr>\n",
       "    <tr>\n",
       "      <th>Excess kurtosis of the integrated profile</th>\n",
       "      <td>-0.873473</td>\n",
       "      <td>-0.526525</td>\n",
       "      <td>1.000000</td>\n",
       "      <td>0.946269</td>\n",
       "      <td>0.404575</td>\n",
       "      <td>0.426082</td>\n",
       "      <td>-0.336287</td>\n",
       "      <td>-0.211153</td>\n",
       "      <td>0.791776</td>\n",
       "    </tr>\n",
       "    <tr>\n",
       "      <th>Skewness of the integrated profile</th>\n",
       "      <td>-0.738974</td>\n",
       "      <td>-0.543117</td>\n",
       "      <td>0.946269</td>\n",
       "      <td>1.000000</td>\n",
       "      <td>0.406169</td>\n",
       "      <td>0.411906</td>\n",
       "      <td>-0.326339</td>\n",
       "      <td>-0.202633</td>\n",
       "      <td>0.711313</td>\n",
       "    </tr>\n",
       "    <tr>\n",
       "      <th>Mean of the DM-SNR curve</th>\n",
       "      <td>-0.287538</td>\n",
       "      <td>0.012791</td>\n",
       "      <td>0.404575</td>\n",
       "      <td>0.406169</td>\n",
       "      <td>1.000000</td>\n",
       "      <td>0.797382</td>\n",
       "      <td>-0.615579</td>\n",
       "      <td>-0.352638</td>\n",
       "      <td>0.395620</td>\n",
       "    </tr>\n",
       "    <tr>\n",
       "      <th>Standard deviation of the DM-SNR curve</th>\n",
       "      <td>-0.297747</td>\n",
       "      <td>-0.045540</td>\n",
       "      <td>0.426082</td>\n",
       "      <td>0.411906</td>\n",
       "      <td>0.797382</td>\n",
       "      <td>1.000000</td>\n",
       "      <td>-0.808571</td>\n",
       "      <td>-0.572731</td>\n",
       "      <td>0.490554</td>\n",
       "    </tr>\n",
       "    <tr>\n",
       "      <th>Excess kurtosis of the DM-SNR curve</th>\n",
       "      <td>0.227218</td>\n",
       "      <td>0.025596</td>\n",
       "      <td>-0.336287</td>\n",
       "      <td>-0.326339</td>\n",
       "      <td>-0.615579</td>\n",
       "      <td>-0.808571</td>\n",
       "      <td>1.000000</td>\n",
       "      <td>0.923223</td>\n",
       "      <td>-0.390269</td>\n",
       "    </tr>\n",
       "    <tr>\n",
       "      <th>Skewness of the DM-SNR curve</th>\n",
       "      <td>0.139540</td>\n",
       "      <td>0.024178</td>\n",
       "      <td>-0.211153</td>\n",
       "      <td>-0.202633</td>\n",
       "      <td>-0.352638</td>\n",
       "      <td>-0.572731</td>\n",
       "      <td>0.923223</td>\n",
       "      <td>1.000000</td>\n",
       "      <td>-0.258525</td>\n",
       "    </tr>\n",
       "    <tr>\n",
       "      <th>target_class</th>\n",
       "      <td>-0.672304</td>\n",
       "      <td>-0.362363</td>\n",
       "      <td>0.791776</td>\n",
       "      <td>0.711313</td>\n",
       "      <td>0.395620</td>\n",
       "      <td>0.490554</td>\n",
       "      <td>-0.390269</td>\n",
       "      <td>-0.258525</td>\n",
       "      <td>1.000000</td>\n",
       "    </tr>\n",
       "  </tbody>\n",
       "</table>\n",
       "</div>"
      ],
      "text/plain": [
       "                                              Mean of the integrated profile  \\\n",
       "Mean of the integrated profile                                      1.000000   \n",
       "Standard deviation of the integrated profile                        0.552478   \n",
       "Excess kurtosis of the integrated profile                          -0.873473   \n",
       "Skewness of the integrated profile                                 -0.738974   \n",
       "Mean of the DM-SNR curve                                           -0.287538   \n",
       "Standard deviation of the DM-SNR curve                             -0.297747   \n",
       "Excess kurtosis of the DM-SNR curve                                 0.227218   \n",
       "Skewness of the DM-SNR curve                                        0.139540   \n",
       "target_class                                                       -0.672304   \n",
       "\n",
       "                                              Standard deviation of the integrated profile  \\\n",
       "Mean of the integrated profile                                                    0.552478   \n",
       "Standard deviation of the integrated profile                                      1.000000   \n",
       "Excess kurtosis of the integrated profile                                        -0.526525   \n",
       "Skewness of the integrated profile                                               -0.543117   \n",
       "Mean of the DM-SNR curve                                                          0.012791   \n",
       "Standard deviation of the DM-SNR curve                                           -0.045540   \n",
       "Excess kurtosis of the DM-SNR curve                                               0.025596   \n",
       "Skewness of the DM-SNR curve                                                      0.024178   \n",
       "target_class                                                                     -0.362363   \n",
       "\n",
       "                                              Excess kurtosis of the integrated profile  \\\n",
       "Mean of the integrated profile                                                -0.873473   \n",
       "Standard deviation of the integrated profile                                  -0.526525   \n",
       "Excess kurtosis of the integrated profile                                      1.000000   \n",
       "Skewness of the integrated profile                                             0.946269   \n",
       "Mean of the DM-SNR curve                                                       0.404575   \n",
       "Standard deviation of the DM-SNR curve                                         0.426082   \n",
       "Excess kurtosis of the DM-SNR curve                                           -0.336287   \n",
       "Skewness of the DM-SNR curve                                                  -0.211153   \n",
       "target_class                                                                   0.791776   \n",
       "\n",
       "                                              Skewness of the integrated profile  \\\n",
       "Mean of the integrated profile                                         -0.738974   \n",
       "Standard deviation of the integrated profile                           -0.543117   \n",
       "Excess kurtosis of the integrated profile                               0.946269   \n",
       "Skewness of the integrated profile                                      1.000000   \n",
       "Mean of the DM-SNR curve                                                0.406169   \n",
       "Standard deviation of the DM-SNR curve                                  0.411906   \n",
       "Excess kurtosis of the DM-SNR curve                                    -0.326339   \n",
       "Skewness of the DM-SNR curve                                           -0.202633   \n",
       "target_class                                                            0.711313   \n",
       "\n",
       "                                              Mean of the DM-SNR curve  \\\n",
       "Mean of the integrated profile                               -0.287538   \n",
       "Standard deviation of the integrated profile                  0.012791   \n",
       "Excess kurtosis of the integrated profile                     0.404575   \n",
       "Skewness of the integrated profile                            0.406169   \n",
       "Mean of the DM-SNR curve                                      1.000000   \n",
       "Standard deviation of the DM-SNR curve                        0.797382   \n",
       "Excess kurtosis of the DM-SNR curve                          -0.615579   \n",
       "Skewness of the DM-SNR curve                                 -0.352638   \n",
       "target_class                                                  0.395620   \n",
       "\n",
       "                                              Standard deviation of the DM-SNR curve  \\\n",
       "Mean of the integrated profile                                             -0.297747   \n",
       "Standard deviation of the integrated profile                               -0.045540   \n",
       "Excess kurtosis of the integrated profile                                   0.426082   \n",
       "Skewness of the integrated profile                                          0.411906   \n",
       "Mean of the DM-SNR curve                                                    0.797382   \n",
       "Standard deviation of the DM-SNR curve                                      1.000000   \n",
       "Excess kurtosis of the DM-SNR curve                                        -0.808571   \n",
       "Skewness of the DM-SNR curve                                               -0.572731   \n",
       "target_class                                                                0.490554   \n",
       "\n",
       "                                              Excess kurtosis of the DM-SNR curve  \\\n",
       "Mean of the integrated profile                                           0.227218   \n",
       "Standard deviation of the integrated profile                             0.025596   \n",
       "Excess kurtosis of the integrated profile                               -0.336287   \n",
       "Skewness of the integrated profile                                      -0.326339   \n",
       "Mean of the DM-SNR curve                                                -0.615579   \n",
       "Standard deviation of the DM-SNR curve                                  -0.808571   \n",
       "Excess kurtosis of the DM-SNR curve                                      1.000000   \n",
       "Skewness of the DM-SNR curve                                             0.923223   \n",
       "target_class                                                            -0.390269   \n",
       "\n",
       "                                              Skewness of the DM-SNR curve  \\\n",
       "Mean of the integrated profile                                    0.139540   \n",
       "Standard deviation of the integrated profile                      0.024178   \n",
       "Excess kurtosis of the integrated profile                        -0.211153   \n",
       "Skewness of the integrated profile                               -0.202633   \n",
       "Mean of the DM-SNR curve                                         -0.352638   \n",
       "Standard deviation of the DM-SNR curve                           -0.572731   \n",
       "Excess kurtosis of the DM-SNR curve                               0.923223   \n",
       "Skewness of the DM-SNR curve                                      1.000000   \n",
       "target_class                                                     -0.258525   \n",
       "\n",
       "                                              target_class  \n",
       "Mean of the integrated profile                   -0.672304  \n",
       "Standard deviation of the integrated profile     -0.362363  \n",
       "Excess kurtosis of the integrated profile         0.791776  \n",
       "Skewness of the integrated profile                0.711313  \n",
       "Mean of the DM-SNR curve                          0.395620  \n",
       "Standard deviation of the DM-SNR curve            0.490554  \n",
       "Excess kurtosis of the DM-SNR curve              -0.390269  \n",
       "Skewness of the DM-SNR curve                     -0.258525  \n",
       "target_class                                      1.000000  "
      ]
     },
     "execution_count": 3,
     "metadata": {},
     "output_type": "execute_result"
    }
   ],
   "source": [
    "df = train.drop(['id'], axis=1)\n",
    "df.corr()"
   ]
  },
  {
   "cell_type": "code",
   "execution_count": 4,
   "id": "89191a67",
   "metadata": {
    "execution": {
     "iopub.execute_input": "2021-09-24T07:58:06.611931Z",
     "iopub.status.busy": "2021-09-24T07:58:06.611350Z",
     "iopub.status.idle": "2021-09-24T07:58:06.624178Z",
     "shell.execute_reply": "2021-09-24T07:58:06.623580Z",
     "shell.execute_reply.started": "2021-09-24T07:43:01.361637Z"
    },
    "papermill": {
     "duration": 0.030833,
     "end_time": "2021-09-24T07:58:06.624326",
     "exception": false,
     "start_time": "2021-09-24T07:58:06.593493",
     "status": "completed"
    },
    "tags": []
   },
   "outputs": [],
   "source": [
    "pred_col = ['Standard deviation of the integrated profile',\n",
    "       'Excess kurtosis of the integrated profile',\n",
    "       'Skewness of the integrated profile',\n",
    "       'Standard deviation of the DM-SNR curve',\n",
    "       'Excess kurtosis of the DM-SNR curve', 'Skewness of the DM-SNR curve']\n",
    "X = pd.DataFrame()\n",
    "X=df[pred_col]\n",
    "y = pd.DataFrame()\n",
    "y[\"target\"]=df.target_class\n",
    "#y = y.to_numpy()\n",
    "#y.head()"
   ]
  },
  {
   "cell_type": "code",
   "execution_count": 5,
   "id": "0b8dde3a",
   "metadata": {
    "execution": {
     "iopub.execute_input": "2021-09-24T07:58:06.659159Z",
     "iopub.status.busy": "2021-09-24T07:58:06.658569Z",
     "iopub.status.idle": "2021-09-24T07:58:06.679494Z",
     "shell.execute_reply": "2021-09-24T07:58:06.678935Z",
     "shell.execute_reply.started": "2021-09-24T07:43:02.039522Z"
    },
    "papermill": {
     "duration": 0.039285,
     "end_time": "2021-09-24T07:58:06.679622",
     "exception": false,
     "start_time": "2021-09-24T07:58:06.640337",
     "status": "completed"
    },
    "tags": []
   },
   "outputs": [
    {
     "data": {
      "text/plain": [
       "0    10392\n",
       "1    10392\n",
       "Name: target, dtype: int64"
      ]
     },
     "execution_count": 5,
     "metadata": {},
     "output_type": "execute_result"
    }
   ],
   "source": [
    "from sklearn.utils import resample\n",
    "# Standardisation the Features \n",
    "#scaler = MinMaxScaler()\n",
    "#scaler.fit(X)\n",
    "#X = scaler.transform(X)\n",
    "#X=pd.DataFrame((X))\n",
    "#y=pd.DataFrame((y))\n",
    "\n",
    "# Train - Test Split\n",
    "X_train, X_test, y_train, y_test = train_test_split(X, y, test_size=0.2,random_state=42)\n",
    "\n",
    "# Oversample \n",
    "train_temp = pd.concat([X_train, y_train], axis=1)\n",
    "c_0 = train_temp[train_temp.target==0]\n",
    "c_1 = train_temp[train_temp.target==1]\n",
    "# 50-50 split\n",
    "c1_over = resample(c_1,replace=True, n_samples=len(c_0),random_state=42)\n",
    "upsampled = pd.concat([c_0, c1_over])\n",
    "upsampled.target.value_counts()"
   ]
  },
  {
   "cell_type": "code",
   "execution_count": 6,
   "id": "9dff9f26",
   "metadata": {
    "execution": {
     "iopub.execute_input": "2021-09-24T07:58:06.721102Z",
     "iopub.status.busy": "2021-09-24T07:58:06.720119Z",
     "iopub.status.idle": "2021-09-24T07:58:06.731849Z",
     "shell.execute_reply": "2021-09-24T07:58:06.731335Z",
     "shell.execute_reply.started": "2021-09-24T07:43:03.679489Z"
    },
    "papermill": {
     "duration": 0.036684,
     "end_time": "2021-09-24T07:58:06.732007",
     "exception": false,
     "start_time": "2021-09-24T07:58:06.695323",
     "status": "completed"
    },
    "tags": []
   },
   "outputs": [],
   "source": [
    "X_train = pd.DataFrame()\n",
    "y_train = pd.DataFrame()\n",
    "\n",
    "scaler = StandardScaler()\n",
    "scaler.fit(X[pred_col])\n",
    "\n",
    "# Scaling Training Data\n",
    "X_train = scaler.transform(upsampled[pred_col])\n",
    "y_train = upsampled.target\n",
    "\n",
    "# Scaling Testing Data\n",
    "X_test = scaler.transform(X_test)\n",
    "\n",
    "# Scaling full data\n",
    "X_num = scaler.transform(X[pred_col])\n",
    "\n",
    "y_train = y_train.to_numpy()\n",
    "y_test = y_test.to_numpy()\n",
    "y_num = y.to_numpy()"
   ]
  },
  {
   "cell_type": "code",
   "execution_count": 7,
   "id": "e64bfaac",
   "metadata": {
    "execution": {
     "iopub.execute_input": "2021-09-24T07:58:06.767612Z",
     "iopub.status.busy": "2021-09-24T07:58:06.767011Z",
     "iopub.status.idle": "2021-09-24T07:58:06.771203Z",
     "shell.execute_reply": "2021-09-24T07:58:06.771784Z",
     "shell.execute_reply.started": "2021-09-24T07:45:54.562496Z"
    },
    "papermill": {
     "duration": 0.024647,
     "end_time": "2021-09-24T07:58:06.772019",
     "exception": false,
     "start_time": "2021-09-24T07:58:06.747372",
     "status": "completed"
    },
    "tags": []
   },
   "outputs": [
    {
     "name": "stdout",
     "output_type": "stream",
     "text": [
      "(20784, 6) (20784, 1)\n",
      "(2864, 6) (2864, 1)\n",
      "(14318, 6) (14318, 1)\n"
     ]
    }
   ],
   "source": [
    "y_train = y_train.reshape((y_train.shape[0],1))\n",
    "print(X_train.shape, y_train.shape)\n",
    "print(X_test.shape, y_test.shape)\n",
    "print(X_num.shape, y_num.shape)"
   ]
  },
  {
   "cell_type": "markdown",
   "id": "fe18d995",
   "metadata": {
    "papermill": {
     "duration": 0.015227,
     "end_time": "2021-09-24T07:58:06.803528",
     "exception": false,
     "start_time": "2021-09-24T07:58:06.788301",
     "status": "completed"
    },
    "tags": []
   },
   "source": [
    "**Base Models**"
   ]
  },
  {
   "cell_type": "code",
   "execution_count": 8,
   "id": "c0f865a1",
   "metadata": {
    "execution": {
     "iopub.execute_input": "2021-09-24T07:58:06.840929Z",
     "iopub.status.busy": "2021-09-24T07:58:06.839966Z",
     "iopub.status.idle": "2021-09-24T07:58:09.380583Z",
     "shell.execute_reply": "2021-09-24T07:58:09.380021Z",
     "shell.execute_reply.started": "2021-09-24T07:50:40.047437Z"
    },
    "papermill": {
     "duration": 2.560661,
     "end_time": "2021-09-24T07:58:09.380710",
     "exception": false,
     "start_time": "2021-09-24T07:58:06.820049",
     "status": "completed"
    },
    "tags": []
   },
   "outputs": [
    {
     "data": {
      "text/plain": [
       "SVC(kernel='linear')"
      ]
     },
     "execution_count": 8,
     "metadata": {},
     "output_type": "execute_result"
    }
   ],
   "source": [
    "# Linear SVC Kernel\n",
    "\n",
    "lin_svc=SVC(kernel='linear')\n",
    "lin_svc.fit(X_train,y_train.ravel())"
   ]
  },
  {
   "cell_type": "code",
   "execution_count": 9,
   "id": "b93a3ae0",
   "metadata": {
    "execution": {
     "iopub.execute_input": "2021-09-24T07:58:09.415853Z",
     "iopub.status.busy": "2021-09-24T07:58:09.415294Z",
     "iopub.status.idle": "2021-09-24T07:58:10.655215Z",
     "shell.execute_reply": "2021-09-24T07:58:10.655691Z",
     "shell.execute_reply.started": "2021-09-24T07:50:43.968218Z"
    },
    "papermill": {
     "duration": 1.259231,
     "end_time": "2021-09-24T07:58:10.655854",
     "exception": false,
     "start_time": "2021-09-24T07:58:09.396623",
     "status": "completed"
    },
    "tags": []
   },
   "outputs": [
    {
     "name": "stdout",
     "output_type": "stream",
     "text": [
      "Accuracy Score:\n",
      "Out-Sample: 0.9710195530726257\n",
      "In-Sample: 0.9412528868360277\n",
      "Full-Sample: 0.9711551892722448\n"
     ]
    }
   ],
   "source": [
    "#X_test = X_test.to_numpy()\n",
    "y_pred=lin_svc.predict(X_test)\n",
    "y_pred2=lin_svc.predict(X_train)\n",
    "y_pred3=lin_svc.predict(X_num)\n",
    "\n",
    "print('Accuracy Score:')\n",
    "print(\"Out-Sample:\",metrics.accuracy_score(y_test,y_pred))\n",
    "print(\"In-Sample:\",metrics.accuracy_score(y_train,y_pred2))\n",
    "print(\"Full-Sample:\",metrics.accuracy_score(y_num,y_pred3))"
   ]
  },
  {
   "cell_type": "code",
   "execution_count": 10,
   "id": "14a974c4",
   "metadata": {
    "execution": {
     "iopub.execute_input": "2021-09-24T07:58:10.693136Z",
     "iopub.status.busy": "2021-09-24T07:58:10.692549Z",
     "iopub.status.idle": "2021-09-24T07:58:10.701516Z",
     "shell.execute_reply": "2021-09-24T07:58:10.700975Z",
     "shell.execute_reply.started": "2021-09-24T07:50:47.963728Z"
    },
    "papermill": {
     "duration": 0.029791,
     "end_time": "2021-09-24T07:58:10.701643",
     "exception": false,
     "start_time": "2021-09-24T07:58:10.671852",
     "status": "completed"
    },
    "tags": []
   },
   "outputs": [
    {
     "data": {
      "text/plain": [
       "(2550, 61, 22, 231)"
      ]
     },
     "execution_count": 10,
     "metadata": {},
     "output_type": "execute_result"
    }
   ],
   "source": [
    "from sklearn.metrics import confusion_matrix, classification_report\n",
    "tn, fp, fn, tp = confusion_matrix(y_test, y_pred).ravel()\n",
    "tn, fp, fn, tp "
   ]
  },
  {
   "cell_type": "code",
   "execution_count": 11,
   "id": "a49e6221",
   "metadata": {
    "execution": {
     "iopub.execute_input": "2021-09-24T07:58:10.738892Z",
     "iopub.status.busy": "2021-09-24T07:58:10.737992Z",
     "iopub.status.idle": "2021-09-24T07:58:13.794846Z",
     "shell.execute_reply": "2021-09-24T07:58:13.794406Z",
     "shell.execute_reply.started": "2021-09-24T07:50:58.687143Z"
    },
    "papermill": {
     "duration": 3.077267,
     "end_time": "2021-09-24T07:58:13.794991",
     "exception": false,
     "start_time": "2021-09-24T07:58:10.717724",
     "status": "completed"
    },
    "tags": []
   },
   "outputs": [
    {
     "data": {
      "text/plain": [
       "SVC()"
      ]
     },
     "execution_count": 11,
     "metadata": {},
     "output_type": "execute_result"
    }
   ],
   "source": [
    "# RBF SVC Kernel\n",
    "\n",
    "rbf_svc=SVC(kernel='rbf')\n",
    "rbf_svc.fit(X_train,y_train.ravel())"
   ]
  },
  {
   "cell_type": "code",
   "execution_count": 12,
   "id": "1b22b286",
   "metadata": {
    "execution": {
     "iopub.execute_input": "2021-09-24T07:58:13.831324Z",
     "iopub.status.busy": "2021-09-24T07:58:13.830743Z",
     "iopub.status.idle": "2021-09-24T07:58:17.258630Z",
     "shell.execute_reply": "2021-09-24T07:58:17.258107Z",
     "shell.execute_reply.started": "2021-09-24T07:51:03.292291Z"
    },
    "papermill": {
     "duration": 3.447277,
     "end_time": "2021-09-24T07:58:17.258768",
     "exception": false,
     "start_time": "2021-09-24T07:58:13.811491",
     "status": "completed"
    },
    "tags": []
   },
   "outputs": [
    {
     "name": "stdout",
     "output_type": "stream",
     "text": [
      "Accuracy Score:\n",
      "Out-Sample: 0.9748603351955307\n",
      "In-Sample: 0.9477001539645882\n",
      "Full-Sample: 0.9735996647576477\n"
     ]
    }
   ],
   "source": [
    "y_pred=rbf_svc.predict(X_test)\n",
    "y_pred2=rbf_svc.predict(X_train)\n",
    "y_pred3=rbf_svc.predict(X_num)\n",
    "\n",
    "print('Accuracy Score:')\n",
    "print(\"Out-Sample:\",metrics.accuracy_score(y_test,y_pred))\n",
    "print(\"In-Sample:\",metrics.accuracy_score(y_train,y_pred2))\n",
    "print(\"Full-Sample:\",metrics.accuracy_score(y_num,y_pred3))"
   ]
  },
  {
   "cell_type": "code",
   "execution_count": 13,
   "id": "8e07aa23",
   "metadata": {
    "execution": {
     "iopub.execute_input": "2021-09-24T07:58:17.297606Z",
     "iopub.status.busy": "2021-09-24T07:58:17.297006Z",
     "iopub.status.idle": "2021-09-24T07:58:17.304279Z",
     "shell.execute_reply": "2021-09-24T07:58:17.303811Z",
     "shell.execute_reply.started": "2021-09-24T07:51:12.139623Z"
    },
    "papermill": {
     "duration": 0.028867,
     "end_time": "2021-09-24T07:58:17.304412",
     "exception": false,
     "start_time": "2021-09-24T07:58:17.275545",
     "status": "completed"
    },
    "tags": []
   },
   "outputs": [
    {
     "data": {
      "text/plain": [
       "(2559, 52, 20, 233)"
      ]
     },
     "execution_count": 13,
     "metadata": {},
     "output_type": "execute_result"
    }
   ],
   "source": [
    "from sklearn.metrics import confusion_matrix, classification_report\n",
    "tn, fp, fn, tp = confusion_matrix(y_test, y_pred).ravel()\n",
    "tn, fp, fn, tp "
   ]
  },
  {
   "cell_type": "code",
   "execution_count": 14,
   "id": "34bccd70",
   "metadata": {
    "execution": {
     "iopub.execute_input": "2021-09-24T07:58:17.341817Z",
     "iopub.status.busy": "2021-09-24T07:58:17.341274Z",
     "iopub.status.idle": "2021-09-24T07:58:20.243167Z",
     "shell.execute_reply": "2021-09-24T07:58:20.243626Z",
     "shell.execute_reply.started": "2021-09-24T07:51:44.748389Z"
    },
    "papermill": {
     "duration": 2.92223,
     "end_time": "2021-09-24T07:58:20.243805",
     "exception": false,
     "start_time": "2021-09-24T07:58:17.321575",
     "status": "completed"
    },
    "tags": []
   },
   "outputs": [
    {
     "data": {
      "text/plain": [
       "SVC(kernel='poly')"
      ]
     },
     "execution_count": 14,
     "metadata": {},
     "output_type": "execute_result"
    }
   ],
   "source": [
    "pol_svc=SVC(kernel='poly')\n",
    "pol_svc.fit(X_train,y_train.ravel())"
   ]
  },
  {
   "cell_type": "code",
   "execution_count": 15,
   "id": "6da5b17c",
   "metadata": {
    "execution": {
     "iopub.execute_input": "2021-09-24T07:58:20.282160Z",
     "iopub.status.busy": "2021-09-24T07:58:20.281597Z",
     "iopub.status.idle": "2021-09-24T07:58:22.240189Z",
     "shell.execute_reply": "2021-09-24T07:58:22.239594Z",
     "shell.execute_reply.started": "2021-09-24T07:51:52.768511Z"
    },
    "papermill": {
     "duration": 1.978845,
     "end_time": "2021-09-24T07:58:22.240324",
     "exception": false,
     "start_time": "2021-09-24T07:58:20.261479",
     "status": "completed"
    },
    "tags": []
   },
   "outputs": [
    {
     "name": "stdout",
     "output_type": "stream",
     "text": [
      "Accuracy Score:\n",
      "Out-Sample: 0.9769553072625698\n",
      "In-Sample: 0.9161855273287144\n",
      "Full-Sample: 0.9742980863249057\n"
     ]
    }
   ],
   "source": [
    "y_pred=pol_svc.predict(X_test)\n",
    "y_pred2=pol_svc.predict(X_train)\n",
    "y_pred3=pol_svc.predict(X_num)\n",
    "\n",
    "print('Accuracy Score:')\n",
    "print(\"Out-Sample:\",metrics.accuracy_score(y_test,y_pred))\n",
    "print(\"In-Sample:\",metrics.accuracy_score(y_train,y_pred2))\n",
    "print(\"Full-Sample:\",metrics.accuracy_score(y_num,y_pred3))"
   ]
  },
  {
   "cell_type": "code",
   "execution_count": 16,
   "id": "dad37d79",
   "metadata": {
    "execution": {
     "iopub.execute_input": "2021-09-24T07:58:22.279589Z",
     "iopub.status.busy": "2021-09-24T07:58:22.278572Z",
     "iopub.status.idle": "2021-09-24T07:58:22.287200Z",
     "shell.execute_reply": "2021-09-24T07:58:22.287616Z",
     "shell.execute_reply.started": "2021-09-24T07:52:38.148770Z"
    },
    "papermill": {
     "duration": 0.02999,
     "end_time": "2021-09-24T07:58:22.287766",
     "exception": false,
     "start_time": "2021-09-24T07:58:22.257776",
     "status": "completed"
    },
    "tags": []
   },
   "outputs": [
    {
     "data": {
      "text/plain": [
       "(2580, 31, 35, 218)"
      ]
     },
     "execution_count": 16,
     "metadata": {},
     "output_type": "execute_result"
    }
   ],
   "source": [
    "from sklearn.metrics import confusion_matrix, classification_report\n",
    "tn, fp, fn, tp = confusion_matrix(y_test, y_pred).ravel()\n",
    "tn, fp, fn, tp "
   ]
  },
  {
   "cell_type": "markdown",
   "id": "711a9c74",
   "metadata": {
    "papermill": {
     "duration": 0.017851,
     "end_time": "2021-09-24T07:58:22.323166",
     "exception": false,
     "start_time": "2021-09-24T07:58:22.305315",
     "status": "completed"
    },
    "tags": []
   },
   "source": [
    "**Cross validation**"
   ]
  },
  {
   "cell_type": "code",
   "execution_count": 17,
   "id": "62e4f473",
   "metadata": {
    "execution": {
     "iopub.execute_input": "2021-09-24T07:58:22.364761Z",
     "iopub.status.busy": "2021-09-24T07:58:22.364181Z",
     "iopub.status.idle": "2021-09-24T07:58:28.651851Z",
     "shell.execute_reply": "2021-09-24T07:58:28.652296Z",
     "shell.execute_reply.started": "2021-09-24T07:53:26.739823Z"
    },
    "papermill": {
     "duration": 6.311104,
     "end_time": "2021-09-24T07:58:28.652456",
     "exception": false,
     "start_time": "2021-09-24T07:58:22.341352",
     "status": "completed"
    },
    "tags": []
   },
   "outputs": [
    {
     "name": "stdout",
     "output_type": "stream",
     "text": [
      "[0.97625698 0.97346369 0.98184358 0.97346369 0.98324022 0.98324022\n",
      " 0.97625698 0.98184358 0.97905028 0.97905028 0.98743017 0.98463687\n",
      " 0.98044693 0.97486034 0.97067039 0.97346369 0.97765363 0.98184358\n",
      " 0.97762238 0.97202797]\n",
      "Mean Scores of Linear Kernel 0.9784182716724619\n"
     ]
    }
   ],
   "source": [
    "# CV on Linear Kernel \n",
    "\n",
    "from sklearn.model_selection import cross_val_score\n",
    "scores = cross_val_score(lin_svc, X_num, y_num.ravel(), cv=20, scoring='accuracy') #cv is cross validation\n",
    "print(scores)\n",
    "print(\"Mean Scores of Linear Kernel\",scores.mean())"
   ]
  },
  {
   "cell_type": "code",
   "execution_count": 18,
   "id": "26360ada",
   "metadata": {
    "execution": {
     "iopub.execute_input": "2021-09-24T07:58:28.693538Z",
     "iopub.status.busy": "2021-09-24T07:58:28.692872Z",
     "iopub.status.idle": "2021-09-24T07:58:34.991994Z",
     "shell.execute_reply": "2021-09-24T07:58:34.991509Z",
     "shell.execute_reply.started": "2021-09-24T07:54:38.078368Z"
    },
    "papermill": {
     "duration": 6.321879,
     "end_time": "2021-09-24T07:58:34.992135",
     "exception": false,
     "start_time": "2021-09-24T07:58:28.670256",
     "status": "completed"
    },
    "tags": []
   },
   "outputs": [
    {
     "name": "stdout",
     "output_type": "stream",
     "text": [
      "[0.97625698 0.97346369 0.98184358 0.97346369 0.98324022 0.98324022\n",
      " 0.97625698 0.98184358 0.97905028 0.97905028 0.98743017 0.98463687\n",
      " 0.98044693 0.97486034 0.97067039 0.97346369 0.97765363 0.98184358\n",
      " 0.97762238 0.97202797]\n",
      "Mean Scores of Linear Kernel 0.9784182716724619\n"
     ]
    }
   ],
   "source": [
    "# CV on SVC Kernel \n",
    "\n",
    "from sklearn.model_selection import cross_val_score\n",
    "scores = cross_val_score(lin_svc, X_num, y_num.ravel(), cv=20, scoring='accuracy') #cv is cross validation\n",
    "print(scores)\n",
    "print(\"Mean Scores of Linear Kernel\",scores.mean())"
   ]
  },
  {
   "cell_type": "code",
   "execution_count": 19,
   "id": "7d05663e",
   "metadata": {
    "execution": {
     "iopub.execute_input": "2021-09-24T07:58:35.034839Z",
     "iopub.status.busy": "2021-09-24T07:58:35.033888Z",
     "iopub.status.idle": "2021-09-24T07:58:44.924262Z",
     "shell.execute_reply": "2021-09-24T07:58:44.924678Z",
     "shell.execute_reply.started": "2021-09-24T07:56:11.139252Z"
    },
    "papermill": {
     "duration": 9.914282,
     "end_time": "2021-09-24T07:58:44.924850",
     "exception": false,
     "start_time": "2021-09-24T07:58:35.010568",
     "status": "completed"
    },
    "tags": []
   },
   "outputs": [
    {
     "name": "stdout",
     "output_type": "stream",
     "text": [
      "[0.97765363 0.97765363 0.98044693 0.97486034 0.98184358 0.98324022\n",
      " 0.97486034 0.97765363 0.98044693 0.97905028 0.98743017 0.98044693\n",
      " 0.98044693 0.97486034 0.96927374 0.97346369 0.98184358 0.98463687\n",
      " 0.97902098 0.97482517]\n",
      "Mean Scores of RBF Kernel 0.9786978942844865\n"
     ]
    }
   ],
   "source": [
    "# CV on rbf Kernel \n",
    "\n",
    "from sklearn.model_selection import cross_val_score\n",
    "scores = cross_val_score(rbf_svc, X_num, y_num.ravel(), cv=20, scoring='accuracy') #cv is cross validation\n",
    "print(scores)\n",
    "print(\"Mean Scores of RBF Kernel\",scores.mean())"
   ]
  },
  {
   "cell_type": "code",
   "execution_count": 20,
   "id": "6392a878",
   "metadata": {
    "execution": {
     "iopub.execute_input": "2021-09-24T07:58:44.967868Z",
     "iopub.status.busy": "2021-09-24T07:58:44.966863Z",
     "iopub.status.idle": "2021-09-24T07:58:59.769630Z",
     "shell.execute_reply": "2021-09-24T07:58:59.769182Z",
     "shell.execute_reply.started": "2021-09-24T07:56:45.445368Z"
    },
    "papermill": {
     "duration": 14.826344,
     "end_time": "2021-09-24T07:58:59.769763",
     "exception": false,
     "start_time": "2021-09-24T07:58:44.943419",
     "status": "completed"
    },
    "tags": []
   },
   "outputs": [
    {
     "name": "stdout",
     "output_type": "stream",
     "text": [
      "[0.97067039 0.97206704 0.97905028 0.97625698 0.97625698 0.97905028\n",
      " 0.97206704 0.97905028 0.97067039 0.97486034 0.98743017 0.97625698\n",
      " 0.97765363 0.97346369 0.95949721 0.96648045 0.97625698 0.97905028\n",
      " 0.97482517 0.97062937]\n",
      "Mean Scores of Polynomial Kernel 0.9745771965464703\n"
     ]
    }
   ],
   "source": [
    "# CV on Polynomial Kernel \n",
    "\n",
    "from sklearn.model_selection import cross_val_score\n",
    "scores = cross_val_score(pol_svc, X_num, y_num.ravel(), cv=20, scoring='accuracy') #cv is cross validation\n",
    "print(scores)\n",
    "print(\"Mean Scores of Polynomial Kernel\",scores.mean())"
   ]
  },
  {
   "cell_type": "markdown",
   "id": "64eaf5e8",
   "metadata": {
    "papermill": {
     "duration": 0.018373,
     "end_time": "2021-09-24T07:58:59.807003",
     "exception": false,
     "start_time": "2021-09-24T07:58:59.788630",
     "status": "completed"
    },
    "tags": []
   },
   "source": [
    "**Submission**"
   ]
  },
  {
   "cell_type": "code",
   "execution_count": 22,
   "id": "3755b428",
   "metadata": {
    "execution": {
     "iopub.execute_input": "2021-09-24T07:58:59.849010Z",
     "iopub.status.busy": "2021-09-24T07:58:59.848390Z",
     "iopub.status.idle": "2021-09-24T07:59:00.212999Z",
     "shell.execute_reply": "2021-09-24T07:59:00.213387Z",
     "shell.execute_reply.started": "2021-09-24T07:57:44.314928Z"
    },
    "papermill": {
     "duration": 0.388129,
     "end_time": "2021-09-24T07:59:00.213551",
     "exception": false,
     "start_time": "2021-09-24T07:58:59.825422",
     "status": "completed"
    },
    "tags": []
   },
   "outputs": [
    {
     "data": {
      "text/html": [
       "<div>\n",
       "<style scoped>\n",
       "    .dataframe tbody tr th:only-of-type {\n",
       "        vertical-align: middle;\n",
       "    }\n",
       "\n",
       "    .dataframe tbody tr th {\n",
       "        vertical-align: top;\n",
       "    }\n",
       "\n",
       "    .dataframe thead th {\n",
       "        text-align: right;\n",
       "    }\n",
       "</style>\n",
       "<table border=\"1\" class=\"dataframe\">\n",
       "  <thead>\n",
       "    <tr style=\"text-align: right;\">\n",
       "      <th></th>\n",
       "      <th>id</th>\n",
       "      <th>target_class</th>\n",
       "    </tr>\n",
       "  </thead>\n",
       "  <tbody>\n",
       "    <tr>\n",
       "      <th>0</th>\n",
       "      <td>15</td>\n",
       "      <td>0</td>\n",
       "    </tr>\n",
       "    <tr>\n",
       "      <th>1</th>\n",
       "      <td>28</td>\n",
       "      <td>1</td>\n",
       "    </tr>\n",
       "    <tr>\n",
       "      <th>2</th>\n",
       "      <td>30</td>\n",
       "      <td>0</td>\n",
       "    </tr>\n",
       "    <tr>\n",
       "      <th>3</th>\n",
       "      <td>35</td>\n",
       "      <td>0</td>\n",
       "    </tr>\n",
       "    <tr>\n",
       "      <th>4</th>\n",
       "      <td>48</td>\n",
       "      <td>0</td>\n",
       "    </tr>\n",
       "    <tr>\n",
       "      <th>...</th>\n",
       "      <td>...</td>\n",
       "      <td>...</td>\n",
       "    </tr>\n",
       "    <tr>\n",
       "      <th>3575</th>\n",
       "      <td>17873</td>\n",
       "      <td>0</td>\n",
       "    </tr>\n",
       "    <tr>\n",
       "      <th>3576</th>\n",
       "      <td>17884</td>\n",
       "      <td>0</td>\n",
       "    </tr>\n",
       "    <tr>\n",
       "      <th>3577</th>\n",
       "      <td>17889</td>\n",
       "      <td>1</td>\n",
       "    </tr>\n",
       "    <tr>\n",
       "      <th>3578</th>\n",
       "      <td>17894</td>\n",
       "      <td>0</td>\n",
       "    </tr>\n",
       "    <tr>\n",
       "      <th>3579</th>\n",
       "      <td>17896</td>\n",
       "      <td>0</td>\n",
       "    </tr>\n",
       "  </tbody>\n",
       "</table>\n",
       "<p>3580 rows × 2 columns</p>\n",
       "</div>"
      ],
      "text/plain": [
       "         id  target_class\n",
       "0        15             0\n",
       "1        28             1\n",
       "2        30             0\n",
       "3        35             0\n",
       "4        48             0\n",
       "...     ...           ...\n",
       "3575  17873             0\n",
       "3576  17884             0\n",
       "3577  17889             1\n",
       "3578  17894             0\n",
       "3579  17896             0\n",
       "\n",
       "[3580 rows x 2 columns]"
      ]
     },
     "execution_count": 22,
     "metadata": {},
     "output_type": "execute_result"
    }
   ],
   "source": [
    "# Submission\n",
    "test = pd.read_csv(path+'/test.csv')\n",
    "test_sub = pd.DataFrame()\n",
    "test_sub['id'] = test['id']\n",
    "test = scaler.transform(test[pred_col])\n",
    "pred = rbf_svc.predict(test)\n",
    "test_sub['target_class'] = pred\n",
    "test_sub"
   ]
  },
  {
   "cell_type": "code",
   "execution_count": 23,
   "id": "57a2e026",
   "metadata": {
    "execution": {
     "iopub.execute_input": "2021-09-24T07:59:00.257025Z",
     "iopub.status.busy": "2021-09-24T07:59:00.256370Z",
     "iopub.status.idle": "2021-09-24T07:59:00.267135Z",
     "shell.execute_reply": "2021-09-24T07:59:00.266638Z"
    },
    "papermill": {
     "duration": 0.033517,
     "end_time": "2021-09-24T07:59:00.267281",
     "exception": false,
     "start_time": "2021-09-24T07:59:00.233764",
     "status": "completed"
    },
    "tags": []
   },
   "outputs": [],
   "source": [
    "test_sub.to_csv('submission.csv', index=False)"
   ]
  }
 ],
 "metadata": {
  "kernelspec": {
   "display_name": "Python 3",
   "language": "python",
   "name": "python3"
  },
  "language_info": {
   "codemirror_mode": {
    "name": "ipython",
    "version": 3
   },
   "file_extension": ".py",
   "mimetype": "text/x-python",
   "name": "python",
   "nbconvert_exporter": "python",
   "pygments_lexer": "ipython3",
   "version": "3.8.5"
  },
  "papermill": {
   "default_parameters": {},
   "duration": 62.415676,
   "end_time": "2021-09-24T07:59:00.935117",
   "environment_variables": {},
   "exception": null,
   "input_path": "__notebook__.ipynb",
   "output_path": "__notebook__.ipynb",
   "parameters": {},
   "start_time": "2021-09-24T07:57:58.519441",
   "version": "2.3.3"
  }
 },
 "nbformat": 4,
 "nbformat_minor": 5
}

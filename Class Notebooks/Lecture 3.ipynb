{
 "cells": [
  {
   "cell_type": "markdown",
   "id": "a01b497f",
   "metadata": {},
   "source": [
    "## Regression:\n",
    "* Searches for realtionship among variables \n",
    "* Finds the function that maps variables (inputs/feaures) t dependent variables (output/responses)\n",
    "* Dependent variable ususally continuous and unbounded"
   ]
  },
  {
   "cell_type": "markdown",
   "id": "26ed689d",
   "metadata": {},
   "source": [
    "## Linear Regression\n",
    "\n",
    "y = $\\theta0$x0 "
   ]
  },
  {
   "cell_type": "markdown",
   "id": "f7efb91b",
   "metadata": {},
   "source": [
    "# Regression Performance"
   ]
  },
  {
   "cell_type": "markdown",
   "id": "b117ea4f",
   "metadata": {},
   "source": [
    "### Types of regression \n",
    "* Linear regression (univariate)\n",
    "* Multiple variable Linear Regression (multivariate)\n",
    "* Polynomial Linear Regression (introduce powers and nonlinear terms)"
   ]
  },
  {
   "cell_type": "markdown",
   "id": "c24589c8",
   "metadata": {},
   "source": [
    "### Implementation"
   ]
  },
  {
   "cell_type": "code",
   "execution_count": 1,
   "id": "ef6b3fd4",
   "metadata": {},
   "outputs": [],
   "source": [
    "import numpy as np\n",
    "from sklearn.linear_model import LinearRegression"
   ]
  },
  {
   "cell_type": "code",
   "execution_count": 11,
   "id": "77e085b9",
   "metadata": {},
   "outputs": [],
   "source": [
    "x = np.array([5, 15, 25, 45, 37, 67, 55]).reshape((-1,1))\n",
    "y = np.array([110,220,310,560, 412, 732, 640]).reshape((-1,1))"
   ]
  },
  {
   "cell_type": "code",
   "execution_count": 12,
   "id": "5da55b00",
   "metadata": {},
   "outputs": [
    {
     "data": {
      "text/plain": [
       "((7, 1), (7, 1))"
      ]
     },
     "execution_count": 12,
     "metadata": {},
     "output_type": "execute_result"
    }
   ],
   "source": [
    "x.shape, y.shape"
   ]
  },
  {
   "cell_type": "code",
   "execution_count": 13,
   "id": "48e7dc04",
   "metadata": {},
   "outputs": [
    {
     "name": "stdout",
     "output_type": "stream",
     "text": [
      "R squared:  0.9911353350742254\n"
     ]
    }
   ],
   "source": [
    "model = LinearRegression().fit(x,y)\n",
    "r_sq = model.score(x,y)\n",
    "print(\"R squared: \", r_sq)"
   ]
  },
  {
   "cell_type": "code",
   "execution_count": 14,
   "id": "3e205962",
   "metadata": {},
   "outputs": [
    {
     "name": "stdout",
     "output_type": "stream",
     "text": [
      "Intercept x0:  [59.80273437]\n",
      "Slope theta1:  [[10.30273438]]\n"
     ]
    }
   ],
   "source": [
    "print(\"Intercept x0: \", model.intercept_)\n",
    "print(\"Slope theta1: \", model.coef_)"
   ]
  },
  {
   "cell_type": "code",
   "execution_count": 17,
   "id": "fdb16bdd",
   "metadata": {},
   "outputs": [
    {
     "data": {
      "text/plain": [
       "array([[111.31640625],\n",
       "       [214.34375   ],\n",
       "       [317.37109375],\n",
       "       [523.42578125],\n",
       "       [441.00390625],\n",
       "       [750.0859375 ],\n",
       "       [626.453125  ]])"
      ]
     },
     "execution_count": 17,
     "metadata": {},
     "output_type": "execute_result"
    }
   ],
   "source": [
    "y_pred = model.predict(x)\n",
    "y_pred"
   ]
  },
  {
   "cell_type": "code",
   "execution_count": 18,
   "id": "c71a22e3",
   "metadata": {},
   "outputs": [
    {
     "data": {
      "text/plain": [
       "array([[111.31640625],\n",
       "       [214.34375   ],\n",
       "       [317.37109375],\n",
       "       [523.42578125],\n",
       "       [441.00390625],\n",
       "       [750.0859375 ],\n",
       "       [626.453125  ]])"
      ]
     },
     "execution_count": 18,
     "metadata": {},
     "output_type": "execute_result"
    }
   ],
   "source": [
    "y_pred1 = model.intercept_ + model.coef_*x\n",
    "y_pred1"
   ]
  },
  {
   "cell_type": "code",
   "execution_count": 19,
   "id": "65ff963d",
   "metadata": {},
   "outputs": [
    {
     "data": {
      "text/plain": [
       "array([[ True],\n",
       "       [ True],\n",
       "       [ True],\n",
       "       [ True],\n",
       "       [ True],\n",
       "       [ True],\n",
       "       [ True]])"
      ]
     },
     "execution_count": 19,
     "metadata": {},
     "output_type": "execute_result"
    }
   ],
   "source": [
    "y_pred == y_pred1"
   ]
  },
  {
   "cell_type": "code",
   "execution_count": 23,
   "id": "7ef3f74f",
   "metadata": {},
   "outputs": [
    {
     "data": {
      "text/plain": [
       "array([[ 59.80273437],\n",
       "       [ 70.10546875],\n",
       "       [ 80.40820312],\n",
       "       [ 90.7109375 ],\n",
       "       [101.01367187],\n",
       "       [111.31640625],\n",
       "       [121.61914062],\n",
       "       [131.921875  ],\n",
       "       [142.22460937],\n",
       "       [152.52734375]])"
      ]
     },
     "execution_count": 23,
     "metadata": {},
     "output_type": "execute_result"
    }
   ],
   "source": [
    "y_pred_new = model.predict(np.arange(10).reshape(-1,1))\n",
    "y_pred_new"
   ]
  },
  {
   "cell_type": "code",
   "execution_count": 26,
   "id": "c2b0dec2",
   "metadata": {},
   "outputs": [],
   "source": [
    "x = np.array([[5,45,78], [15,37,38], [25,47,29], [45,37,89], [37,26,18], [67,17,29], [55,16,18]])\n",
    "y = np.array([110,220,310,560, 412, 732, 640])"
   ]
  },
  {
   "cell_type": "code",
   "execution_count": 27,
   "id": "01ff626e",
   "metadata": {},
   "outputs": [
    {
     "name": "stdout",
     "output_type": "stream",
     "text": [
      "R squared:  0.9951568985588507\n"
     ]
    }
   ],
   "source": [
    "model = LinearRegression().fit(x,y)\n",
    "r_sq = model.score(x,y)\n",
    "print(\"R squared: \", r_sq)"
   ]
  },
  {
   "cell_type": "code",
   "execution_count": 28,
   "id": "bb85ca22",
   "metadata": {},
   "outputs": [
    {
     "name": "stdout",
     "output_type": "stream",
     "text": [
      "Intercept x0:  26.30962656415403\n",
      "Slope theta1:  [10.56790272  0.04403182  0.53015946]\n"
     ]
    }
   ],
   "source": [
    "print(\"Intercept x0: \", model.intercept_)\n",
    "print(\"Slope theta1: \", model.coef_)"
   ]
  },
  {
   "cell_type": "code",
   "execution_count": 29,
   "id": "a0725205",
   "metadata": {},
   "outputs": [
    {
     "data": {
      "text/plain": [
       "array([122.48300959, 206.60340396, 307.95131421, 550.67861795,\n",
       "       428.00972471, 750.48227404, 617.79165553])"
      ]
     },
     "execution_count": 29,
     "metadata": {},
     "output_type": "execute_result"
    }
   ],
   "source": [
    "y_pred = model.predict(x)\n",
    "y_pred"
   ]
  },
  {
   "cell_type": "markdown",
   "id": "59000457",
   "metadata": {},
   "source": [
    "### Polynomial Regression"
   ]
  },
  {
   "cell_type": "code",
   "execution_count": 31,
   "id": "59da5076",
   "metadata": {},
   "outputs": [],
   "source": [
    "import numpy as np\n",
    "from sklearn.preprocessing import PolynomialFeatures"
   ]
  },
  {
   "cell_type": "code",
   "execution_count": 32,
   "id": "3e56ada0",
   "metadata": {},
   "outputs": [],
   "source": [
    "x = np.array([5, 15, 25, 45, 37, 67, 55]).reshape((-1,1))\n",
    "y = np.array([110,220,310,560, 412, 732, 640]).reshape((-1,1))"
   ]
  },
  {
   "cell_type": "raw",
   "id": "3971ae1a",
   "metadata": {},
   "source": [
    "include bias = false in polynomial feature transformer"
   ]
  },
  {
   "cell_type": "code",
   "execution_count": 33,
   "id": "db74f696",
   "metadata": {},
   "outputs": [
    {
     "name": "stdout",
     "output_type": "stream",
     "text": [
      "[[   5.   25.]\n",
      " [  15.  225.]\n",
      " [  25.  625.]\n",
      " [  45. 2025.]\n",
      " [  37. 1369.]\n",
      " [  67. 4489.]\n",
      " [  55. 3025.]]\n",
      "R squared:  0.991415533081388\n",
      "Intercept x0:  [51.64533429]\n",
      "Slope theta1:  [[ 1.09827006e+01 -9.52302405e-03]]\n"
     ]
    }
   ],
   "source": [
    "transformer = PolynomialFeatures(degree = 2, include_bias = False)\n",
    "transformer.fit(x)\n",
    "x_ = transformer.transform(x)\n",
    "print(x_)\n",
    "model = LinearRegression().fit(x_,y)\n",
    "r_sq = model.score(x_,y)\n",
    "print(\"R squared: \", r_sq)\n",
    "print(\"Intercept x0: \", model.intercept_)\n",
    "print(\"Slope theta1: \", model.coef_)"
   ]
  },
  {
   "cell_type": "markdown",
   "id": "5e4d0a5b",
   "metadata": {},
   "source": [
    "include bias = True in polynomial feature transformer"
   ]
  },
  {
   "cell_type": "code",
   "execution_count": 35,
   "id": "066b472f",
   "metadata": {},
   "outputs": [],
   "source": [
    "x = np.array([5, 15, 25, 45, 37, 67, 55]).reshape((-1,1))\n",
    "y = np.array([110,220,310,560, 412, 732, 640]).reshape((-1,1))"
   ]
  },
  {
   "cell_type": "code",
   "execution_count": 36,
   "id": "a7d47d42",
   "metadata": {},
   "outputs": [
    {
     "name": "stdout",
     "output_type": "stream",
     "text": [
      "[[1.000e+00 5.000e+00 2.500e+01]\n",
      " [1.000e+00 1.500e+01 2.250e+02]\n",
      " [1.000e+00 2.500e+01 6.250e+02]\n",
      " [1.000e+00 4.500e+01 2.025e+03]\n",
      " [1.000e+00 3.700e+01 1.369e+03]\n",
      " [1.000e+00 6.700e+01 4.489e+03]\n",
      " [1.000e+00 5.500e+01 3.025e+03]]\n",
      "R squared:  0.991415533081388\n",
      "Intercept x0:  [51.64533429]\n",
      "Slope theta1:  [[ 0.00000000e+00  1.09827006e+01 -9.52302405e-03]]\n"
     ]
    }
   ],
   "source": [
    "transformer = PolynomialFeatures(degree = 2, include_bias = True)\n",
    "transformer.fit(x)\n",
    "x_ = transformer.transform(x)\n",
    "print(x_)\n",
    "model = LinearRegression().fit(x_,y)\n",
    "r_sq = model.score(x_,y)\n",
    "print(\"R squared: \", r_sq)\n",
    "print(\"Intercept x0: \", model.intercept_)\n",
    "print(\"Slope theta1: \", model.coef_)"
   ]
  },
  {
   "cell_type": "code",
   "execution_count": null,
   "id": "33657025",
   "metadata": {},
   "outputs": [],
   "source": []
  }
 ],
 "metadata": {
  "kernelspec": {
   "display_name": "Python 3",
   "language": "python",
   "name": "python3"
  },
  "language_info": {
   "codemirror_mode": {
    "name": "ipython",
    "version": 3
   },
   "file_extension": ".py",
   "mimetype": "text/x-python",
   "name": "python",
   "nbconvert_exporter": "python",
   "pygments_lexer": "ipython3",
   "version": "3.8.5"
  }
 },
 "nbformat": 4,
 "nbformat_minor": 5
}
